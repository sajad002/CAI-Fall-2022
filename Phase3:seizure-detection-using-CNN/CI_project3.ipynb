{
  "cells": [
    {
      "cell_type": "markdown",
      "source": [
        "\n",
        "<div style=\"direction:rtl\", align='right'> \n",
        "برای لود کردن دیتا ها از گوگل  درایو استفاده کرده و در هر بار اجرای کد آن ها داخل گوگل کولب مونت می کنیم\n",
        " </div>\n",
        "\n",
        "\n"
      ],
      "metadata": {
        "id": "hQssDn55mqGu"
      }
    },
    {
      "cell_type": "code",
      "execution_count": 459,
      "metadata": {
        "id": "E8Pm8M2hbsHU",
        "colab": {
          "base_uri": "https://localhost:8080/"
        },
        "outputId": "4f758cd6-e52e-401d-f3fe-d1f0ca50cbf3"
      },
      "outputs": [
        {
          "output_type": "stream",
          "name": "stdout",
          "text": [
            "Drive already mounted at /content/drive; to attempt to forcibly remount, call drive.mount(\"/content/drive\", force_remount=True).\n"
          ]
        }
      ],
      "source": [
        "from google.colab import drive\n",
        "drive.mount('/content/drive') \n"
      ]
    },
    {
      "cell_type": "markdown",
      "source": [
        "\n",
        "<div style=\"direction:rtl\", align='right'> \n",
        "با استفاده از کامند\n",
        "\n",
        " cd و ls\n",
        " \n",
        "  به مسیر پروژه می رویم\n",
        " </div>\n",
        "\n",
        "\n"
      ],
      "metadata": {
        "id": "QMh6uWCznOzd"
      }
    },
    {
      "cell_type": "code",
      "execution_count": 460,
      "metadata": {
        "colab": {
          "base_uri": "https://localhost:8080/"
        },
        "id": "OZeRcz86cg48",
        "outputId": "600beb14-9cd3-42a5-8c12-13efc7837800"
      },
      "outputs": [
        {
          "output_type": "stream",
          "name": "stdout",
          "text": [
            "[Errno 2] No such file or directory: 'drive/MyDrive/ci_project_3rd_phase/'\n",
            "/content/drive/MyDrive/ci_project_3rd_phase\n",
            "chb01_03.edf       main.py    \u001b[0m\u001b[01;34mmodels\u001b[0m/          \u001b[01;34mseizure_data\u001b[0m/\n",
            "CI_project3.ipynb  model.png  \u001b[01;34mnotSezure_data\u001b[0m/\n"
          ]
        }
      ],
      "source": [
        "%cd drive/MyDrive/ci_project_3rd_phase/\n",
        "%ls\n"
      ]
    },
    {
      "cell_type": "markdown",
      "source": [
        "<div style=\"rtl\", align='right'>\n",
        "برای لود کردن دیتا های سیگنال نیاز به استفاده از کتاب خانه مخصوص آن داریم. برای \n",
        "نصب آن از دستور\n",
        "\n",
        "pip install \n",
        "\n",
        "استفاده می کنیم\n",
        "</div>"
      ],
      "metadata": {
        "id": "L4tR_0btnqNl"
      }
    },
    {
      "cell_type": "code",
      "execution_count": 461,
      "metadata": {
        "colab": {
          "base_uri": "https://localhost:8080/"
        },
        "id": "420iCR-EiHQt",
        "outputId": "237a7556-7214-4bbb-f88b-5001ebca051d"
      },
      "outputs": [
        {
          "output_type": "stream",
          "name": "stdout",
          "text": [
            "Looking in indexes: https://pypi.org/simple, https://us-python.pkg.dev/colab-wheels/public/simple/\n",
            "Requirement already satisfied: pyEDFlib in /usr/local/lib/python3.8/dist-packages (0.1.30)\n",
            "Requirement already satisfied: numpy>=1.9.1 in /usr/local/lib/python3.8/dist-packages (from pyEDFlib) (1.21.6)\n"
          ]
        }
      ],
      "source": [
        "!pip install pyEDFlib"
      ]
    },
    {
      "cell_type": "markdown",
      "source": [
        "# imports"
      ],
      "metadata": {
        "id": "07F5WFYon-b9"
      }
    },
    {
      "cell_type": "code",
      "execution_count": 462,
      "metadata": {
        "id": "8mXw8SobNtnS"
      },
      "outputs": [],
      "source": [
        "#sajjad shafaf\n",
        "#hesari\n",
        "import random\n",
        "import pyedflib\n",
        "import numpy as np\n",
        "import tensorflow as tf\n",
        "import tensorflow.keras.layers as layers\n",
        "from sklearn.model_selection import train_test_split\n",
        "import random\n",
        "import os\n",
        "import scipy.stats as stats\n",
        "from scipy.stats import pearsonr\n",
        "from sklearn.preprocessing import StandardScaler\n",
        "\n",
        "from sklearn.preprocessing import MinMaxScaler\n",
        "from sklearn.preprocessing import RobustScaler\n",
        "\n",
        "import warnings\n",
        "warnings.simplefilter(action='ignore', category=FutureWarning)\n",
        "\n",
        "import numpy as np\n",
        "from sklearn.model_selection import train_test_split\n",
        "from sklearn.metrics import accuracy_score, recall_score, precision_score\n",
        "import matplotlib.pyplot as plt\n",
        "import pickle\n",
        "from scipy.signal import butter, lfilter\n",
        "from sklearn.svm import SVC\n",
        "\n",
        "import random\n",
        "import os\n",
        "# my imports#############################\n",
        "import scipy.stats as stats\n",
        "from matplotlib import pyplot as plt\n",
        "import pandas as pd\n",
        "\n",
        "from sklearn.preprocessing import normalize\n",
        "from sklearn.model_selection import KFold\n",
        "from sklearn.model_selection import cross_val_score\n",
        "from sklearn.svm import SVC\n",
        "from sklearn.ensemble import RandomForestClassifier\n",
        "from sklearn.neighbors import KNeighborsClassifier\n",
        "from sklearn.metrics import confusion_matrix, ConfusionMatrixDisplay\n",
        "from sklearn.metrics import roc_curve, roc_auc_score, confusion_matrix\n",
        "from sklearn.preprocessing import StandardScaler\n",
        "from sklearn.cluster import KMeans\n",
        "%matplotlib inline\n",
        "import seaborn as sns; \n",
        "sns.set()  # for plot styling\n",
        "from sklearn import tree\n",
        "\n",
        "import pandas as pd\n",
        "import numpy as np \n",
        "import seaborn as sns\n",
        "import matplotlib.pyplot as plt\n",
        "from sklearn.preprocessing import StandardScaler\n",
        "\n",
        "from sklearn import metrics\n"
      ]
    },
    {
      "cell_type": "markdown",
      "source": [
        "# loading datas"
      ],
      "metadata": {
        "id": "ydmSYFxn5jwU"
      }
    },
    {
      "cell_type": "markdown",
      "source": [
        "<div style=\"rtl\", align='right'>\n",
        " در این پروژه بدنبال طراحی سیستمی هستیم که در آن بتوانیم سیگنال های مغزی یک شخص را بگیریم و وجود یک تشنج را در این سگنال بررسی کنیم \n",
        "و در صورت وجود سیگنال بازه تشنج را تشخیص داده و آن را گزارش بدهیم.\n",
        "\n",
        "برای این کار مقداری داده از لینک زیر دانلود کرده و برای آموزش سیستم از آن استفاده میکنیم.\n",
        "\n",
        "https://physionet.org/content/chbmit/1.0.0/\n",
        "\n",
        "انتخاب داده ها برای سادگی کار از ۳ شخص\n",
        "  - ch01\n",
        "  - ch02\n",
        "  - ch03\n",
        "\n",
        "میباشد.\n",
        "\n",
        "توزیع داده ها هم به شکل زیر است\n",
        "\n",
        "پنجاه درصد داده ها دارای تشنج هستند.\n",
        "\n",
        "حدود 12.5 درصد داده ها سالم از داده هایی است که در آن تشنج اتفاق افتاده است.\n",
        "\n",
        "بقیه داده ها هم از بازه هایی بدون وجوود تشنج در آن ها هستند\n",
        "\n",
        "همان طور که در کد زیر آمده است اطلاعات موجود فایل ها را با یک ساختار دیکشنری میسازیم. \n",
        "\n",
        "برای داده های تشنج مقادیر موجود در داده های دیکشنری زمان وقوع تشنج است\n",
        "و برای داده های بدون تشنج هم زمان ابتدا و انتها که مشخصا برای اکثر داده ها صفر تا ۳۶۰۰ هست.\n",
        "\n",
        " </div>\n",
        "\n",
        "\n"
      ],
      "metadata": {
        "id": "qLlAK4zGIgVj"
      }
    },
    {
      "cell_type": "code",
      "execution_count": 463,
      "metadata": {
        "id": "cLaANyeHNrci"
      },
      "outputs": [],
      "source": [
        "seed = 57\n",
        "random.seed(seed)\n",
        "os.environ['PYTHONHASHSEED'] = str(seed)\n",
        "np.random.seed(seed)\n",
        "\n",
        "window_shift_len = 0.5\n",
        "windows_size = 7\n",
        "freq_sampling = 256\n",
        "window_len = windows_size * freq_sampling\n",
        "seizure_data_set = []\n",
        "notSeizure_data_set = []\n",
        "\n",
        "\n",
        "seizure_info = dict({\n",
        "    \"seizure_data/chb01_03.edf\": [2996, 3036],       #01- len = 40\n",
        "    \"seizure_data/chb01_04.edf\": [1467, 1494],       #02- len = 27\n",
        "    \"seizure_data/chb01_15.edf\": [1732, 1772],       #03- len = 40\n",
        "    \"seizure_data/chb01_16.edf\": [1015, 1066],       #04- len = 51\n",
        "    \"seizure_data/chb01_18.edf\": [1720, 1810],       #05- len = 90\n",
        "    \"seizure_data/chb01_21.edf\": [327, 420],         #06- len = 93\n",
        "    \"seizure_data/chb01_26.edf\": [1862, 1963],       #07- len = 99\n",
        "\n",
        "    \"seizure_data/chb02_16.edf\": [130, 212],         #08- len = 82\n",
        "    \"seizure_data/chb02_16+.edf\": [2972, 3053],      #09- len = 81\n",
        "    \"seizure_data/chb02_19.edf\": [3369, 3378],       #10- len = 109\n",
        "\n",
        "    \"seizure_data/chb03_01.edf\": [362, 414],         #11- len = 52\n",
        "    \"seizure_data/chb03_02.edf\": [731, 796],         #12- len = 65\n",
        "    \"seizure_data/chb03_03.edf\": [432, 501],         #13- len = 69\n",
        "    \"seizure_data/chb03_04.edf\": [2162, 2214],       #14- len = 52\n",
        "    \"seizure_data/chb03_34.edf\": [1982, 2029],       #15- len = 47\n",
        "    \"seizure_data/chb03_35.edf\": [2592, 2656],       #16- len = 66\n",
        "    \"seizure_data/chb03_36.edf\": [1725, 1778]        #17- len = 53\n",
        "})\n",
        "\n",
        "notS_data = dict({\n",
        "    \"notSezure_data/chb01_01.edf\": [0, 3600],\n",
        "    \"notSezure_data/chb01_02.edf\": [0, 3600],\n",
        "    \"notSezure_data/chb01_05.edf\": [0, 3600],\n",
        "    \"notSezure_data/chb01_06.edf\": [0, 3600],\n",
        "\n",
        "    \"notSezure_data/chb02_01.edf\": [0, 3600],\n",
        "    \"notSezure_data/chb02_02.edf\": [0, 3600],\n",
        "\n",
        "    \"notSezure_data/chb03_05.edf\": [0, 3600],\n",
        "    \"notSezure_data/chb03_06.edf\": [0, 3600],\n",
        "    \"notSezure_data/chb03_07.edf\": [0, 3600],\n",
        "    \"notSezure_data/chb03_08.edf\": [0, 3600]\n",
        "})"
      ]
    },
    {
      "cell_type": "markdown",
      "source": [
        "# extracting seizure windows"
      ],
      "metadata": {
        "id": "UJ3rn_By5plU"
      }
    },
    {
      "cell_type": "markdown",
      "source": [
        "<div style=\"direction:rtl\", align='right'> در این قسمت به آماده سازی داده ها میپردازیم\n",
        "\n",
        "با استفاده از کتابخانه پایین به خواندن داده ها میپردازیم\n",
        "\n",
        "pyedflib\n",
        "\n",
        "همانطور که در کلاس مطرح شد تنها داده های کانال های  \n",
        "\n",
        "fz-cz,\n",
        "cz-pz\n",
        "\n",
        "مورد بررسی قرار میگیرد در نتیچه تنها سیگنالهای ۱۶و۱۷ خوانده میشوند.\n",
        "\n",
        "در ادامه بعد از خواندن این دو کانال فیلتر مورد بررسی در فاز اول را بر روی داده ها اجرا میکنیم\n",
        "\n",
        "برای خواندن داده ها هم از پارامترهای زیر استفاده کرده ایم\n",
        "\n",
        "window_shift_len = 0.5\n",
        "\n",
        "windows_size = 7\n",
        "\n",
        "سایز پنجره ها را برابر ۷ ثانیه و مقدار شیفت هر پنجره را هم ۰.۵ در نظر میگیریم\n",
        "\n",
        "نحوه کار کد به این صورت است که در هر بار اجرای حلقه بیرونی، یک دیتا را از روی درایو می خواند. بعد از جدا کردن دو چنل مورد نظر، با توجه به مقدار زمان شروع و پایان تشنج، بازه تشنج را بدست آورده و با استفاده از یک حلقه دیگر روی این بازه پنجره های خود را با توجه به سایز پنجره و مقدار شیفت پنجره انتخاب و لیبل آن ها را برابر با 1 به معنی تشنج قرار می دهیم \n",
        "</div>\n"
      ],
      "metadata": {
        "id": "5w1q3w57I6LM"
      }
    },
    {
      "cell_type": "code",
      "execution_count": 464,
      "metadata": {
        "id": "q4wu6k08fiXF"
      },
      "outputs": [],
      "source": [
        "\n",
        "for file_name in seizure_info:\n",
        "    f = pyedflib.EdfReader(file_name)\n",
        "    signal_labels = f.getSignalLabels()\n",
        "    sigbufs = np.zeros((2, f.getNSamples()[0]))\n",
        "    \n",
        "    # for i in np.arange(n):\n",
        "    sigbufs[0, :] = f.readSignal(16)\n",
        "    sigbufs[1, :] = f.readSignal(17)\n",
        "    # butter filter\n",
        "    b, a = butter(3, [0.5,40], btype='bandpass',fs=freq_sampling)\n",
        "    channel1_filtered = np.array([lfilter(b,a,sigbufs[0,:])])\n",
        "    channel2_filtered = np.array([lfilter(b,a,sigbufs[1,:])])\n",
        "\n",
        "    sigbufs[0, :] = channel1_filtered\n",
        "    sigbufs[1, :] = channel2_filtered\n",
        "    ######\n",
        "    \n",
        "    start_seizure = seizure_info[file_name][0] * freq_sampling\n",
        "    end_seizure = seizure_info[file_name][1] * freq_sampling\n",
        "\n",
        "    # start_seizure = seizure_info[file_name][0] * freq_sampling - int(window_len/2) # if you want to set close windows to seizure periods to seizure lable,\n",
        "    # end_seizure = seizure_info[file_name][1] * freq_sampling + int(window_len/2)   # you can uncoment these two lines and coment Previous lines\n",
        "\n",
        "\n",
        "    for start_window in range(start_seizure, end_seizure, int(window_shift_len * freq_sampling)):\n",
        "        if((start_window+windows_size*freq_sampling) < (seizure_info[file_name][1] * freq_sampling)):\n",
        "            sz = []\n",
        "            sz.append(sigbufs[0][start_window : start_window + window_len])\n",
        "            sz.append(sigbufs[1][start_window : start_window + window_len])\n",
        "            seizure_data_set.append(sz)\n",
        "    f._close()"
      ]
    },
    {
      "cell_type": "markdown",
      "source": [
        "# extracting norma windows from normal datas"
      ],
      "metadata": {
        "id": "Lw7CIT-x5ykz"
      }
    },
    {
      "cell_type": "markdown",
      "source": [
        "\n",
        "<div style=\"direction:rtl\", align='right'> \n",
        "با توجه شرط بالانس بودن دیتای های هر دو کلاس، تعداد پنجره های بدون تشنج را برابر با پنجره های دارای تشنج بخش قبل در نظر می گیریم\n",
        "\n",
        "از طرفی از ما خواسته شده که 25% داده های بدون تشنجمان را از داده های دارای تشنج و 75% دیگر را از داده های بدون تشنج برداریم. در نتیجه بعد از محاسبه این مقدار، آن را بر داده هایی که می خواهیم بخوانیم تقسیم می کنیم تا پنجره ها به اعداد برابری از هر داده انتخاب شوند\n",
        "\n",
        "برای انتخاب داده های بدون تشنج از فایل های داده شده به شکل تصادفی اقدام میکنیم\n",
        "\n",
        "مطابق قطعه کد قبل در هر بار اجرای حلقه یکه دیتای نرمال را لود کرده و سپس بعد از جدا کردن دو چنل گفته شده، 5% ابتدایی و انهایی آن را به دلیل داشتن نویز از دیتا مورد بررسی برداشته و تا زمانی که به تعداد مناسب پنجره نرسیده ایم ادامه می دهیم\n",
        "\n",
        "همچنین در انتها برای جلوگیری از ارور در خواندن دیتا ها، از تابع\n",
        "\n",
        "_close \n",
        "\n",
        "استفاده می کنیم\n",
        " </div>"
      ],
      "metadata": {
        "id": "RWni6XjsJM7i"
      }
    },
    {
      "cell_type": "code",
      "execution_count": 465,
      "metadata": {
        "id": "eFeu7W5WfjKU"
      },
      "outputs": [],
      "source": [
        "not_seizure_sample_needed = int((0.75) *  len(seizure_data_set))\n",
        "not_seizure_per_file = int(not_seizure_sample_needed / len(notS_data))\n",
        "for file_name in notS_data:\n",
        "    f = pyedflib.EdfReader(file_name)\n",
        "    signal_labels = f.getSignalLabels()\n",
        "    \n",
        "    sigbufs = np.zeros((2, f.getNSamples()[0]))\n",
        "    \n",
        "    sigbufs[0, :] = f.readSignal(16)\n",
        "    sigbufs[1, :] = f.readSignal(17)\n",
        "    # butter filter\n",
        "    b, a = butter(3, [0.5,40], btype='bandpass',fs=freq_sampling)\n",
        "    channel1_filtered = np.array([lfilter(b,a,sigbufs[0,:])])\n",
        "    channel2_filtered = np.array([lfilter(b,a,sigbufs[1,:])])\n",
        "\n",
        "    sigbufs[0, :] = channel1_filtered\n",
        "    sigbufs[1, :] = channel2_filtered\n",
        "    ######\n",
        "    start_notS = (notS_data[file_name][0] + int(notS_data[file_name][1]*0.05)) * freq_sampling\n",
        "    end_notS = (notS_data[file_name][1] - int(notS_data[file_name][1]*0.05) - windows_size) * freq_sampling\n",
        "\n",
        "    for count in range(not_seizure_per_file):\n",
        "        start_index = random.randint(start_notS,end_notS)\n",
        "        sz = []\n",
        "        sz.append(sigbufs[0][start_index : start_index + window_len])\n",
        "        sz.append(sigbufs[1][start_index : start_index + window_len])\n",
        "        notSeizure_data_set.append(sz)\n",
        "    f._close()"
      ]
    },
    {
      "cell_type": "markdown",
      "source": [
        "# extracting norma windows from seizure datas"
      ],
      "metadata": {
        "id": "M0AcjYzK5dLt"
      }
    },
    {
      "cell_type": "markdown",
      "source": [
        "\n",
        "\n",
        "<div style=\"rtl\", align='right'>\n",
        "در اینجا نیز مطابق دو قسمت قبل عمل کرده با این تفاوت که پنجره انتخابی نباید در بازه تشنج باشد\n",
        "</div>"
      ],
      "metadata": {
        "id": "oUYsJ_Mx57AU"
      }
    },
    {
      "cell_type": "code",
      "execution_count": 466,
      "metadata": {
        "id": "q75m4NIVfn9U"
      },
      "outputs": [],
      "source": [
        "not_seizure_per_file_for_seizure = int((len(seizure_data_set) - not_seizure_sample_needed) / len(seizure_info))\n",
        "for seizure_file in seizure_info: \n",
        "    sample_count = 0\n",
        "    f = pyedflib.EdfReader(seizure_file)\n",
        "    signal_labels = f.getSignalLabels()\n",
        "\n",
        "    sigbufs = np.zeros((2, f.getNSamples()[0]))\n",
        "    \n",
        "    sigbufs[0, :] = f.readSignal(16)\n",
        "    sigbufs[1, :] = f.readSignal(17)\n",
        "    # butter filter\n",
        "    b, a = butter(3, [0.5,40], btype='bandpass',fs=freq_sampling)\n",
        "    channel1_filtered = np.array([lfilter(b,a,sigbufs[0,:])])\n",
        "    channel2_filtered = np.array([lfilter(b,a,sigbufs[1,:])])\n",
        "\n",
        "    sigbufs[0, :] = channel1_filtered\n",
        "    sigbufs[1, :] = channel2_filtered\n",
        "    ######\n",
        "\n",
        "    start_notS = (int(len(sigbufs[0]) * 0.05))\n",
        "    end_notS = (len(sigbufs[0]) - int(len(sigbufs[0]) * 0.05) - window_len)\n",
        "\n",
        "    start_seizure = seizure_info[seizure_file][0] * freq_sampling\n",
        "    end_seizure = seizure_info[seizure_file][1] * freq_sampling\n",
        "\n",
        "    # start_seizure = seizure_info[seizure_file][0] * freq_sampling - int(window_len/2)   #  if you want to set close windows to seizure periods to seizure lable,\n",
        "    # end_seizure = seizure_info[seizure_file][1] * freq_sampling + int(window_len/2)     #  you can uncoment these two lines and coment Previous lines\n",
        "\n",
        "\n",
        "    while(sample_count < not_seizure_per_file_for_seizure):\n",
        "        start_index = random.randint(start_notS,end_notS)\n",
        "        end_index = start_index + window_len\n",
        "        if ((end_index < start_seizure) or (start_index > end_seizure)):\n",
        "            sample_count += 1\n",
        "            sz = []\n",
        "            sz.append(sigbufs[0][start_index : end_index])\n",
        "            sz.append(sigbufs[1][start_index : end_index])\n",
        "            notSeizure_data_set.append(sz)\n",
        "    f._close()"
      ]
    },
    {
      "cell_type": "markdown",
      "source": [
        "# merging and reshaping datas and lables"
      ],
      "metadata": {
        "id": "sMHB1jpS6nk1"
      }
    },
    {
      "cell_type": "markdown",
      "source": [
        "\n",
        "<div style=\"direction:rtl\", align='right'> در نهایت تمام داده هایی که از فایل ها خوانده ایم را با یکدیگر ادغام میکنیم\n",
        "در کنار این ادغام هم لیبل داده ها را درست میکنیم.\n",
        "\n",
        "با توجه به اینکه در نهایت قرار است داده ها توسط یک شبکه استفاده شود نیاز هست که داده ها به شکل دسته ای باشند.\n",
        "\n",
        "منظور از داده های دسته ای همان\n",
        "\n",
        "Categorical \n",
        "\n",
        "هست.\n",
        "با توجه به اینکه شبکه ما دو حالت دارد برای لیبل ها هم دوحالت را در نظر میگیریم.\n",
        "در صورتی که تشنج وجود نداشته باشد عنصر اول آرایه را یک و دیگری را صفر در نظر میگیریم\n",
        "\n",
        "و برای قسمت بعدی هم به همین شکل عمل میکنیم</div>\n",
        "\n",
        "\n"
      ],
      "metadata": {
        "id": "9mMikwGhJSsi"
      }
    },
    {
      "cell_type": "code",
      "execution_count": 467,
      "metadata": {
        "id": "hgKtEnoOfuqc"
      },
      "outputs": [],
      "source": [
        "xdata = []\n",
        "ydata = np.arange(len(notSeizure_data_set) + len(seizure_data_set)).reshape(len(notSeizure_data_set) + len(seizure_data_set),1)\n",
        "y_index = 0\n",
        "for not_seizure in notSeizure_data_set: \n",
        "    xdata.append(not_seizure)\n",
        "    ydata[y_index][0] = 0\n",
        "    y_index += 1\n",
        "\n",
        "for seizure in seizure_data_set: \n",
        "    xdata.append(seizure)\n",
        "    ydata[y_index][0] = 1\n",
        "    y_index += 1\n",
        "\n",
        "x = np.arange(len(xdata) * window_len * 2).reshape((len(xdata) , window_len, 2))\n",
        "y = np.arange(len(xdata) * 2).reshape(len(xdata), 2)\n",
        "\n",
        "\n",
        "for i in range(len(xdata)):\n",
        "    for j in range(window_len):\n",
        "        x[i,j,0] = xdata[i][0][j]\n",
        "        x[i,j,1] = xdata[i][1][j]\n",
        "    \n",
        "    if ydata[i][0] == 0:\n",
        "        y[i][0] = 1\n",
        "        y[i][1] = 0\n",
        "    else :\n",
        "        y[i][0] = 0\n",
        "        y[i][1] = 1\n",
        "\n"
      ]
    },
    {
      "cell_type": "markdown",
      "source": [
        "# shape of datas\n",
        "\n",
        "\n"
      ],
      "metadata": {
        "id": "h8YM2mqHJfFD"
      }
    },
    {
      "cell_type": "code",
      "execution_count": 468,
      "metadata": {
        "colab": {
          "base_uri": "https://localhost:8080/"
        },
        "id": "eNATOzT9ZkQp",
        "outputId": "510a88f7-fc85-4bea-bb49-29737020494d"
      },
      "outputs": [
        {
          "output_type": "execute_result",
          "data": {
            "text/plain": [
              "(3576, 1792, 2)"
            ]
          },
          "metadata": {},
          "execution_count": 468
        }
      ],
      "source": [
        "x.shape"
      ]
    },
    {
      "cell_type": "markdown",
      "source": [
        "# ploting channels of a data\n"
      ],
      "metadata": {
        "id": "-v_0iGclJkiy"
      }
    },
    {
      "cell_type": "code",
      "execution_count": 469,
      "metadata": {
        "colab": {
          "base_uri": "https://localhost:8080/",
          "height": 285
        },
        "id": "zNg30sQsZpFQ",
        "outputId": "8198ae66-524b-426b-ff7b-68910550bce7"
      },
      "outputs": [
        {
          "output_type": "execute_result",
          "data": {
            "text/plain": [
              "[<matplotlib.lines.Line2D at 0x7fd9c6822880>]"
            ]
          },
          "metadata": {},
          "execution_count": 469
        },
        {
          "output_type": "display_data",
          "data": {
            "text/plain": [
              "<Figure size 432x288 with 1 Axes>"
            ],
            "image/png": "[encoded data removed]"
          },
          "metadata": {}
        }
      ],
      "source": [
        "plt.plot(x[0, :, 1])"
      ]
    },
    {
      "cell_type": "code",
      "source": [
        "plt.plot(x[0, :, 0])"
      ],
      "metadata": {
        "colab": {
          "base_uri": "https://localhost:8080/",
          "height": 285
        },
        "id": "bzNi-e5E71sr",
        "outputId": "7e676cd8-6fa0-4de9-b6e0-a6d0920d34cd"
      },
      "execution_count": 470,
      "outputs": [
        {
          "output_type": "execute_result",
          "data": {
            "text/plain": [
              "[<matplotlib.lines.Line2D at 0x7fd9c78f8f10>]"
            ]
          },
          "metadata": {},
          "execution_count": 470
        },
        {
          "output_type": "display_data",
          "data": {
            "text/plain": [
              "<Figure size 432x288 with 1 Axes>"
            ],
            "image/png": "[encoded data removed]"
          },
          "metadata": {}
        }
      ]
    },
    {
      "cell_type": "markdown",
      "source": [
        "# extracting features from datas"
      ],
      "metadata": {
        "id": "w9Y6W5Ac8N3x"
      }
    },
    {
      "cell_type": "markdown",
      "source": [
        "\n",
        "<div style=\"direction:rtl\", align='right'> در ادامه به انتخاب ویژگی ها میپردازیم\n",
        "باید توجه داشت که در این قسمت کانال داریم\n",
        "برای همین هر ۲۶ ویژگی که استخراج کرده ایم را بر روی هر دو چنل اجرا میکنیم.\n",
        "\n",
        "برای همین هم ۵۲ عدد در نهایت استخراج میشود که بایستی از بین این تعداد ويژگی بهترین ها را انتخاب نمود.\n",
        "برای همین از\n",
        "\n",
        " feature_selection\n",
        " \n",
        "  استفاده میکنیم.\n",
        "</div>\n",
        "\n"
      ],
      "metadata": {
        "id": "ZTKYxP-DJoAq"
      }
    },
    {
      "cell_type": "code",
      "execution_count": 471,
      "metadata": {
        "id": "7NghlCUdYRaZ"
      },
      "outputs": [],
      "source": [
        "x_fft = np.fft.fft(x)\n",
        "x_ps = np.abs(x_fft**2)/len(x)\n",
        "feature = np.arange(len(x)*2*26).reshape(2 * 26, len(x), 1)\n",
        "ALOW = 1e-6\n",
        "for index in range(len(x)):\n",
        "  for channel in range(2):\n",
        "    #Time Domain - Dimensional Parameters\n",
        "    data = x[index, :, channel]\n",
        "    feature[(channel*26) + 0, index,0] = np.min(data) #minimum                                                       1\n",
        "    feature[(channel*26) + 1, index,0] = np.max(data) #maximum                                                       2\n",
        "    feature[(channel*26) + 2, index,0] = np.mean(data) #mean                                                         3\n",
        "    feature[(channel*26) + 3, index,0] = np.sqrt(np.mean((data)**2)) #root-mean-square                               4\n",
        "    feature[(channel*26) + 4, index,0] = (np.mean(np.sqrt(np.abs(data))))**2 #square-mean-root                       5\n",
        "    feature[ (channel*26) + 5, index,0] = np.var(data) #variance                                                     6\n",
        "    feature[ (channel*26) + 6, index,0] = np.std(data) # standard deviation                                          7\n",
        "    feature[ (channel*26) + 7, index,0] = np.mean((data)**2) #mean square                                            8\n",
        "    feature[ (channel*26) + 8, index,0] = np.mean(np.abs(data)) #mean-abslute                                        9\n",
        "    feature[ (channel*26) + 9, index,0] = np.max(np.abs(data)) #peak                                                 10\n",
        "    feature[ (channel*26) + 10, index,0] = np.ptp(data) #peak to peak                                                11\n",
        "\n",
        "    #Time Domain - Dimensional Parameters\n",
        "    feature[ (channel*26) + 11, index,0] = np.max(np.abs(data))/max(np.sqrt(np.mean((data)**2)), ALOW) #crest Factor 12\n",
        "    feature[ (channel*26) + 12, index,0] = stats.skew(data) #skewness                                                13\n",
        "    feature[ (channel*26) + 13, index,0] = stats.kurtosis(data) #kurtosis                                            14\n",
        "    feature[ (channel*26) + 14, index,0] = np.sqrt(np.mean((data)**2))/max(np.mean((data)), ALOW) #form factor       15\n",
        "    feature[ (channel*26) + 15, index,0] = np.max(np.abs(data))/max(np.mean(data), ALOW) #Pulse Indicator            16\n",
        "    feature[ (channel*26) + 16, index,0] = (np.sqrt(np.mean((data)**2)))/(np.mean(np.abs(data))) #Shape Factor       17\n",
        "    feature[ (channel*26) + 17, index,0] = (np.max(np.abs(data)))/(np.mean(np.abs(data)))#                           18\n",
        "    feature[ (channel*26) + 18, index,0] = (np.max(np.abs(data)))/((np.mean(np.sqrt(np.abs(data))))**2)#             19\n",
        "    \n",
        "    data = x_ps[index, :, channel]\n",
        "    #Frequency-domain\n",
        "    feature[ (channel*26) + 19, index,0] = np.max(data)#                                                             20\n",
        "    feature[ (channel*26) + 20, index,0] = np.sum(data)#                                                             21\n",
        "    feature[ (channel*26) + 21, index,0] = np.mean(data)#                                                            22\n",
        "    feature[ (channel*26) + 22, index,0] = np.var(data)#                                                             23\n",
        "    feature[ (channel*26) + 23, index,0] = np.max(np.abs(data))#                                                     24\n",
        "    feature[ (channel*26) + 24, index,0] = stats.kurtosis(data)#                                                     25\n",
        "    feature[ (channel*26) + 25, index,0] = stats.skew(data) #                                                        26\n",
        "\n",
        "    \n",
        "\n",
        "feature_name = ['Min1', 'Max1', 'Mean1', 'Rms1', 'Var1', 'Std1', 'mean_square1', 'Peak1', 'Skew1', 'Kurtosis1', 'P2p1', \\\n",
        "                   'CrestFactor1', 'FormFactor1', 'PulseIndicator1', 'ShapeFactor1', 'MAbs1', 'Smr1', 'ImpulseFactor1',  \\\n",
        "                   'ClearanceFactor1', 'Max_f1', 'Sum_f1', 'Mean_f1', 'Var_f1', 'Peak_f1', 'Skew_f1', 'Kurtosis_f1',\n",
        "                'Min2', 'Max2', 'Mean2', 'Rms2', 'Var2', 'Std2', 'mean_square2', 'Peak2', 'Skew2', 'Kurtosis2', 'P2p2', \\\n",
        "                   'CrestFactor2', 'FormFactor2', 'PulseIndicator2', 'ShapeFactor2', 'MAbs2', 'Smr2', 'ImpulseFactor2',  \\\n",
        "                   'ClearanceFactor2', 'Max_f2', 'Sum_f2', 'Mean_f2', 'Var_f2', 'Peak_f2', 'Skew_f2', 'Kurtosis_f2']\n",
        "                   "
      ]
    },
    {
      "cell_type": "markdown",
      "source": [
        "# shape of features\n"
      ],
      "metadata": {
        "id": "gzZQvyOUJtLK"
      }
    },
    {
      "cell_type": "code",
      "execution_count": 472,
      "metadata": {
        "id": "XRbZqoMC0bV5",
        "colab": {
          "base_uri": "https://localhost:8080/"
        },
        "outputId": "cca702da-0558-433a-bb5c-9ebb5cd8b2cb"
      },
      "outputs": [
        {
          "output_type": "execute_result",
          "data": {
            "text/plain": [
              "(52, 3576, 1)"
            ]
          },
          "metadata": {},
          "execution_count": 472
        }
      ],
      "source": [
        "feature.shape"
      ]
    },
    {
      "cell_type": "markdown",
      "source": [
        "# normalizing datas"
      ],
      "metadata": {
        "id": "-SLUV0PC9pjz"
      }
    },
    {
      "cell_type": "markdown",
      "source": [
        "\n",
        "<div style=\"direction:rtl\", align='right'> حال نوبت به نرمالایز کردن داده ها میرسد\n",
        "برای این مورد از ۲ اسکالر مختلف استفاده میکنیم و نمودار مربوط به هر کدام را میکشیم\n",
        "\n",
        "با توجه به اینکه این کار از تغییرات بازه های سیگنال میکاهد مطلوب ما نیست و در ادامه از آنها استفاده نمیکنیم\n",
        " </div>\n",
        "\n",
        "StandardScaler: Standardize features by removing the mean and scaling to unit variance.\n",
        "\n",
        "RobustScaler: Scale features using statistics that are robust to outliers.\n",
        "\n"
      ],
      "metadata": {
        "id": "NOBrksQKJ0o6"
      }
    },
    {
      "cell_type": "code",
      "execution_count": 473,
      "metadata": {
        "id": "lGmhQtDgo5Ty",
        "colab": {
          "base_uri": "https://localhost:8080/",
          "height": 285
        },
        "outputId": "d40de68a-ee50-4be8-b1d1-dd6e10ba9f5d"
      },
      "outputs": [
        {
          "output_type": "execute_result",
          "data": {
            "text/plain": [
              "[<matplotlib.lines.Line2D at 0x7fd988a9a7f0>]"
            ]
          },
          "metadata": {},
          "execution_count": 473
        },
        {
          "output_type": "display_data",
          "data": {
            "text/plain": [
              "<Figure size 432x288 with 1 Axes>"
            ],
            "image/png": "[encoded data removed]"
          },
          "metadata": {}
        }
      ],
      "source": [
        "scaler = StandardScaler() \n",
        "\n",
        "features_StandardScaler_col = np.zeros_like(feature)\n",
        "for i in range(len(feature)):\n",
        "   features_StandardScaler_col[i, :] = scaler.fit_transform(feature[i, :, 0].reshape(-1, 1))\n",
        "plt.plot(features_StandardScaler_col[6,:,0])"
      ]
    },
    {
      "cell_type": "code",
      "execution_count": 474,
      "metadata": {
        "id": "vkWea3zM4d1u",
        "colab": {
          "base_uri": "https://localhost:8080/",
          "height": 303
        },
        "outputId": "78df0079-0bb1-4cca-f1c4-773a94ff3fad"
      },
      "outputs": [
        {
          "output_type": "stream",
          "name": "stdout",
          "text": [
            "(52, 3576, 1)\n"
          ]
        },
        {
          "output_type": "execute_result",
          "data": {
            "text/plain": [
              "[<matplotlib.lines.Line2D at 0x7fd9c733a850>]"
            ]
          },
          "metadata": {},
          "execution_count": 474
        },
        {
          "output_type": "display_data",
          "data": {
            "text/plain": [
              "<Figure size 432x288 with 1 Axes>"
            ],
            "image/png": "[encoded data removed]"
          },
          "metadata": {}
        }
      ],
      "source": [
        "scaler = RobustScaler()\n",
        "print(features_StandardScaler_col.shape)\n",
        "for i in range(len(feature)):\n",
        "   features_StandardScaler_col[i, :] = scaler.fit_transform(feature[i, :, 0].reshape(-1, 1))\n",
        "plt.plot(features_StandardScaler_col[6,:,0])"
      ]
    },
    {
      "cell_type": "markdown",
      "source": [
        "# feature selection"
      ],
      "metadata": {
        "id": "UFD20Bxa9zgy"
      }
    },
    {
      "cell_type": "markdown",
      "source": [
        "\n",
        "<div style=\"direction:rtl\", align='right'> \n",
        "در ادامه به انتخاب بهترین ویژگی ها میپردازیم. \n",
        "برای همین یک دقت تمام ویژگی ها را به دست می آوریم و برای پردازش در مراحل بعدی در یک دیکشنری ذخیره میکنیم.\n",
        " </div>\n",
        "\n",
        "\n"
      ],
      "metadata": {
        "id": "VWEXWEyhKXJJ"
      }
    },
    {
      "cell_type": "code",
      "execution_count": 475,
      "metadata": {
        "id": "6GKRukGybwVM"
      },
      "outputs": [],
      "source": [
        "feature_dictionary = dict()\n",
        "\n",
        "for index in range(len(feature_name)):\n",
        "  feature_dictionary[feature_name[index]] = feature[index, :]"
      ]
    },
    {
      "cell_type": "markdown",
      "source": [
        "### calculating recall ID3 using K0fold"
      ],
      "metadata": {
        "id": "7H1LtYln-Ubq"
      }
    },
    {
      "cell_type": "markdown",
      "source": [
        "\n",
        "<div style=\"direction:rtl\", align='right'> \n",
        "\n",
        "برای اندازه گیری دقت هم از\n",
        "\n",
        " kfold\n",
        " \n",
        "  استفاده میکنیم\n",
        "    برای جداسازی کلاس ها از هم از درخت تصمیم استفاده میکنیم\n",
        " </div>\n",
        "\n"
      ],
      "metadata": {
        "id": "h6eaXuGcKZxf"
      }
    },
    {
      "cell_type": "code",
      "execution_count": 476,
      "metadata": {
        "id": "NnrrGrPfaMT0"
      },
      "outputs": [],
      "source": [
        "cv = KFold(n_splits=5, random_state=seed, shuffle=True)\n",
        "model = tree.DecisionTreeClassifier(random_state=seed)\n",
        "accuracy_score_dic = dict()\n",
        "max_accuracy_feature= None\n",
        "best_score = 0\n",
        "for i in feature_name:\n",
        "  accuracy =  np.mean(cross_val_score(model, feature_dictionary[i], ydata, scoring='recall', cv=cv, n_jobs=-1))\n",
        "  accuracy_score_dic[i] = accuracy\n",
        "\n",
        "  if(best_score < accuracy):\n",
        "    max_accuracy_feature = i\n",
        "    best_score = accuracy"
      ]
    },
    {
      "cell_type": "markdown",
      "source": [
        "### selecting features using corrolation and f1 score"
      ],
      "metadata": {
        "id": "om5AlFTe-wzS"
      }
    },
    {
      "cell_type": "markdown",
      "source": [
        "\n",
        "<div style=\"direction:rtl\", align='right'> برای انتخاب بقیه داده ها از همان روال فاز دوم استفاده میکنیم.\n",
        "به این شکل که برای انتخاب داده جدید ابتدا همبستگی آن را با تمام داده های دیگر میگیریم و بدترین آن را انتخاب میکنیم.\n",
        "مقدار انتخاب شده را از یک کم میکنیم.\n",
        "در نهایت عدد به دست آمده را با دقت ترکیب میکنیم(میانگین هارمونیک یا همان اف_وان)\n",
        "</div>\n",
        "f1_score\n",
        "<div style=\"direction:rtl\", align='right'>\n",
        "\n",
        "بعد از انجام این کار بهترین عدد را بدست می آوریم و ویژگی مربوط به آنرا به مجموعه داده نهاییمان اضافه میکنیم\n",
        "\n",
        "این کار را تا انتخاب ۵ ویژگی انجام میدهیم\n",
        " </div>\n",
        "\n"
      ],
      "metadata": {
        "id": "bo7GhUuPKbty"
      }
    },
    {
      "cell_type": "code",
      "execution_count": 477,
      "metadata": {
        "id": "02REAopzYegn"
      },
      "outputs": [],
      "source": [
        "final_feature_dic = dict()\n",
        "final_feature_dic[max_accuracy_feature] = feature_dictionary[max_accuracy_feature]\n",
        "\n",
        "number_of_selected_features = 5\n",
        "\n",
        "for _ in range(number_of_selected_features - 1):\n",
        "    best_f1_score = 0\n",
        "    selected_feature = None\n",
        "    for key in feature_dictionary:\n",
        "\n",
        "        if key in final_feature_dic:\n",
        "            continue\n",
        "\n",
        "        worst_correlation_value = 0\n",
        "        for final_key in final_feature_dic:\n",
        "            pearson, _ = pearsonr(feature_dictionary[key].flatten(\n",
        "            ), final_feature_dic[final_key].flatten())\n",
        "\n",
        "            if abs(pearson) > worst_correlation_value:\n",
        "                worst_correlation_value = abs(pearson)\n",
        "\n",
        "        correlation_point = (1 - worst_correlation_value)\n",
        "        accuracy = accuracy_score_dic[key]\n",
        "\n",
        "        f1_score = 2 * ((correlation_point * accuracy) /\n",
        "                        (correlation_point + accuracy))\n",
        "\n",
        "        if best_f1_score < f1_score:\n",
        "            best_f1_score = f1_score\n",
        "            selected_feature = key\n",
        "\n",
        "    final_feature_dic[selected_feature] = feature_dictionary[selected_feature]"
      ]
    },
    {
      "cell_type": "markdown",
      "source": [
        "# calculating train-validation-test datas  "
      ],
      "metadata": {
        "id": "f1dS3gta_ZUL"
      }
    },
    {
      "cell_type": "markdown",
      "source": [
        "\n",
        "<div style=\"direction:rtl\", align='right'> بعد از انتخاب ویژگی های نهایی نوبت به جداسازی داده ها از هم میرسد\n",
        "\n",
        "برای این کار از\n",
        "</div>\n",
        "\n",
        " train_test_split\n",
        " \n",
        " <div style=\"direction:rtl\", align='right'>\n",
        "  استفاده میکنیم.\n",
        "\n",
        "قبل از جداسازی داده ها باید داده های مربوط به خود سیگنال و ویژگیهای بدست آمده از آن را با هم ترکیب کنیم تا بتوانیم داده ها را به تست و آموزش بشکنیم\n",
        "\n",
        "بعد از جداسازی داده ها دوباره باید آن ها را شکست و ویژگی ها و سیگنال ها را از هم جدا کنیم.\n",
        " </div>\n",
        "\n"
      ],
      "metadata": {
        "id": "uziBcREVKg6L"
      }
    },
    {
      "cell_type": "code",
      "execution_count": 478,
      "metadata": {
        "id": "M4sGtKkSZ3ze"
      },
      "outputs": [],
      "source": [
        "weight_val = 0.15\n",
        "weight_test = 0.15\n",
        "\n",
        "final_features_data = np.arange(len(x) * number_of_selected_features).reshape(len(x), number_of_selected_features)\n",
        "count= 0\n",
        "for key in final_feature_dic:\n",
        "  for item in range(len(final_feature_dic[key])):\n",
        "    final_features_data[item][count] = final_feature_dic[key][item][0]\n",
        "  count += 1\n",
        "\n",
        "# merge signals with features\n",
        "x_with_feature = np.arange(len(x) * (len(x[0]) + number_of_selected_features) * 2).reshape(len(x), (len(x[0]) + number_of_selected_features), 2)\n",
        "for index in range(len(x)):\n",
        "    x_with_feature[index, 0:1792, :] = x[index]\n",
        "    x_with_feature[index, 1792:, 0] = final_features_data[index]\n",
        "\n",
        "\n",
        "x_with_feature_train, x_with_feature_test, y_train, y_test = train_test_split(x_with_feature, y, test_size=weight_val, random_state=seed)\n",
        "x_with_feature_train, x_with_feature_val, y_train, y_val = train_test_split(x_with_feature_train, y_train, test_size=weight_test, random_state=seed)\n",
        "\n",
        "x_test = x_with_feature_test[:, 0:window_len, :]\n",
        "x_feature_test = x_with_feature_test[:, window_len:, 0]\n",
        "\n",
        "x_val = x_with_feature_val[:, 0:window_len, :]\n",
        "x_feature_val = x_with_feature_val[:, window_len:, 0]\n",
        "\n",
        "x_train = x_with_feature_train[:, 0:window_len, :]\n",
        "x_feature = x_with_feature_train[:, window_len:, 0] \n"
      ]
    },
    {
      "cell_type": "markdown",
      "metadata": {
        "id": "CPjJYScIWvHQ"
      },
      "source": [
        "#final model\n",
        "\n",
        "<div style=\"direction:rtl\", align='right'> \n",
        "در این قسمت با استفاده از دیتاها و فیچر های انتخاب شده، یک شبکه عصبی جهت تشخیص صرع در داده ورودی پیاده سازی می کنیم\n",
        "\n",
        "در ابتدا ابعاد ورودی های شبکه مان را تعیین می کنیم\n",
        "\n",
        "Inputs1 \n",
        "سیگنال های ورودی \n",
        "\n",
        "feaure_input\n",
        "فیچر های انتخاب شده \n",
        "\n",
        "در ابتدا سیگنال ها را به یک لایه کانولوشن یک بعدی با مشخصات 25 فیلتر و فیلتر های به سایز 3 می دهیم\n",
        "\n",
        "سپس با استفاده از لایه مکس پولینگ با سایز 7، خروجی لایه کانولوشن را خلاصه سازی می کنیم\n",
        "\n",
        "در مرحله بعد مجدد یک لایه کانولوشن یک بعدی و با 10 فیلتر و فیلتر هایی به سایز 3 می زنیم\n",
        "\n",
        "مجدد مکس پولینگ 10 میزنیم و سپس خروجی را برای دادن به لایه بعد فلاتن و تبدیل به وکتور می کنیم\n",
        "حال خروجی قبلی را به یک لایه فولی کانکتد با تعداد نورون 75 و تابع اکتیویشن \n",
        "«رلو» \n",
        "را استفاده می کنیم. در ادامه مجدد خروجی را به یک لایه فولی کانکتد دیگر با اعداد نورون 20 و اکتیویشن «رلو» دیگر می دهیم\n",
        "\n",
        "از طرف دیگر فیچر های انتخاب شده را به یک لایه فولی کانکتد با تعداد نورون برابر با تعداد فیچر ها می دهیم. \n",
        "\n",
        "در نهایت این دو لایه فولی کانکتد را کانکت کرده و  به آخرین لایه مان که دو نورون دارد و اکتیویشن آن «سافت-مکس» بوده می دهیم  \n",
        "\n",
        "بعد از پیاده سازی لایه های شبکه، مقادیر ورودی ها و خروجی های شبکه مان را می دهیم. در اینجا ورودی شامل یک لیست از سیگنال ها و فیچر های انتخا شده می باشد و خروجی آن نیز به صورت دو عدد بوده که برابر با مقدار فایر شده دو نورون آخر می باشد\n",
        "\n",
        "مطابق توضیحات داده شده \n",
        "</div>\n",
        "<div >\n",
        " optimizer = Adam\n",
        "</div>\n",
        "\n",
        "\n",
        "\n"
      ]
    },
    {
      "cell_type": "code",
      "execution_count": 479,
      "metadata": {
        "id": "jpLywci1U-LF",
        "colab": {
          "base_uri": "https://localhost:8080/"
        },
        "outputId": "16aaa816-5a43-4863-ecf2-dd84e0921069"
      },
      "outputs": [
        {
          "output_type": "stream",
          "name": "stderr",
          "text": [
            "/usr/local/lib/python3.8/dist-packages/keras/optimizers/optimizer_v2/adam.py:110: UserWarning: The `lr` argument is deprecated, use `learning_rate` instead.\n",
            "  super(Adam, self).__init__(name, **kwargs)\n"
          ]
        },
        {
          "output_type": "stream",
          "name": "stdout",
          "text": [
            "Epoch 1/60\n",
            "162/162 [==============================] - 5s 24ms/step - loss: 9.5425 - accuracy: 0.5029 - val_loss: 3.7012 - val_accuracy: 0.5263\n",
            "Epoch 2/60\n",
            "162/162 [==============================] - 4s 23ms/step - loss: 3.4480 - accuracy: 0.5381 - val_loss: 2.7678 - val_accuracy: 0.5658\n",
            "Epoch 3/60\n",
            "162/162 [==============================] - 6s 37ms/step - loss: 2.3991 - accuracy: 0.5780 - val_loss: 2.0613 - val_accuracy: 0.6184\n",
            "Epoch 4/60\n",
            "162/162 [==============================] - 4s 22ms/step - loss: 1.7596 - accuracy: 0.6202 - val_loss: 1.7179 - val_accuracy: 0.6228\n",
            "Epoch 5/60\n",
            "162/162 [==============================] - 4s 22ms/step - loss: 1.4244 - accuracy: 0.6473 - val_loss: 1.4685 - val_accuracy: 0.6798\n",
            "Epoch 6/60\n",
            "162/162 [==============================] - 4s 25ms/step - loss: 1.1908 - accuracy: 0.6616 - val_loss: 1.3266 - val_accuracy: 0.6842\n",
            "Epoch 7/60\n",
            "162/162 [==============================] - 6s 34ms/step - loss: 1.0249 - accuracy: 0.6709 - val_loss: 1.2044 - val_accuracy: 0.6886\n",
            "Epoch 8/60\n",
            "162/162 [==============================] - 4s 22ms/step - loss: 0.8877 - accuracy: 0.7042 - val_loss: 1.1102 - val_accuracy: 0.6952\n",
            "Epoch 9/60\n",
            "162/162 [==============================] - 4s 22ms/step - loss: 0.7739 - accuracy: 0.7178 - val_loss: 1.0309 - val_accuracy: 0.7259\n",
            "Epoch 10/60\n",
            "162/162 [==============================] - 5s 28ms/step - loss: 0.6938 - accuracy: 0.7425 - val_loss: 1.0073 - val_accuracy: 0.7325\n",
            "Epoch 11/60\n",
            "162/162 [==============================] - 5s 31ms/step - loss: 0.6366 - accuracy: 0.7596 - val_loss: 0.9390 - val_accuracy: 0.7500\n",
            "Epoch 12/60\n",
            "162/162 [==============================] - 4s 23ms/step - loss: 0.5732 - accuracy: 0.7770 - val_loss: 0.9155 - val_accuracy: 0.7566\n",
            "Epoch 13/60\n",
            "162/162 [==============================] - 4s 22ms/step - loss: 0.5315 - accuracy: 0.7913 - val_loss: 0.8957 - val_accuracy: 0.7610\n",
            "Epoch 14/60\n",
            "162/162 [==============================] - 5s 32ms/step - loss: 0.4967 - accuracy: 0.8084 - val_loss: 0.9286 - val_accuracy: 0.7763\n",
            "Epoch 15/60\n",
            "162/162 [==============================] - 4s 27ms/step - loss: 0.4638 - accuracy: 0.8219 - val_loss: 0.8698 - val_accuracy: 0.7763\n",
            "Epoch 16/60\n",
            "162/162 [==============================] - 4s 22ms/step - loss: 0.4449 - accuracy: 0.8277 - val_loss: 0.8436 - val_accuracy: 0.7785\n",
            "Epoch 17/60\n",
            "162/162 [==============================] - 4s 22ms/step - loss: 0.4145 - accuracy: 0.8355 - val_loss: 0.8708 - val_accuracy: 0.7917\n",
            "Epoch 18/60\n",
            "162/162 [==============================] - 7s 46ms/step - loss: 0.3915 - accuracy: 0.8444 - val_loss: 0.8934 - val_accuracy: 0.7982\n",
            "Epoch 19/60\n",
            "162/162 [==============================] - 4s 22ms/step - loss: 0.3737 - accuracy: 0.8560 - val_loss: 0.7827 - val_accuracy: 0.7851\n",
            "Epoch 20/60\n",
            "162/162 [==============================] - 4s 22ms/step - loss: 0.3591 - accuracy: 0.8610 - val_loss: 0.8541 - val_accuracy: 0.8136\n",
            "Epoch 21/60\n",
            "162/162 [==============================] - 5s 29ms/step - loss: 0.3395 - accuracy: 0.8711 - val_loss: 0.8212 - val_accuracy: 0.8158\n",
            "Epoch 22/60\n",
            "162/162 [==============================] - 5s 31ms/step - loss: 0.3233 - accuracy: 0.8761 - val_loss: 0.8099 - val_accuracy: 0.8224\n",
            "Epoch 23/60\n",
            "162/162 [==============================] - 4s 22ms/step - loss: 0.3092 - accuracy: 0.8811 - val_loss: 0.8234 - val_accuracy: 0.8202\n",
            "Epoch 24/60\n",
            "162/162 [==============================] - 4s 22ms/step - loss: 0.2970 - accuracy: 0.8916 - val_loss: 0.8365 - val_accuracy: 0.8355\n",
            "Epoch 25/60\n",
            "162/162 [==============================] - 5s 31ms/step - loss: 0.2821 - accuracy: 0.8939 - val_loss: 0.8513 - val_accuracy: 0.8289\n",
            "Epoch 26/60\n",
            "162/162 [==============================] - 5s 29ms/step - loss: 0.2741 - accuracy: 0.9005 - val_loss: 0.7381 - val_accuracy: 0.8355\n",
            "Epoch 27/60\n",
            "162/162 [==============================] - 4s 22ms/step - loss: 0.2591 - accuracy: 0.9086 - val_loss: 0.7415 - val_accuracy: 0.8421\n",
            "Epoch 28/60\n",
            "162/162 [==============================] - 4s 22ms/step - loss: 0.2493 - accuracy: 0.9079 - val_loss: 0.7577 - val_accuracy: 0.8421\n",
            "Epoch 29/60\n",
            "162/162 [==============================] - 5s 33ms/step - loss: 0.2383 - accuracy: 0.9148 - val_loss: 0.6493 - val_accuracy: 0.8443\n",
            "Epoch 30/60\n",
            "162/162 [==============================] - 4s 27ms/step - loss: 0.2275 - accuracy: 0.9191 - val_loss: 0.7246 - val_accuracy: 0.8355\n",
            "Epoch 31/60\n",
            "162/162 [==============================] - 4s 22ms/step - loss: 0.2173 - accuracy: 0.9253 - val_loss: 0.6759 - val_accuracy: 0.8575\n",
            "Epoch 32/60\n",
            "162/162 [==============================] - 4s 22ms/step - loss: 0.2148 - accuracy: 0.9233 - val_loss: 0.6298 - val_accuracy: 0.8531\n",
            "Epoch 33/60\n",
            "162/162 [==============================] - 6s 36ms/step - loss: 0.2044 - accuracy: 0.9303 - val_loss: 0.6904 - val_accuracy: 0.8421\n",
            "Epoch 34/60\n",
            "162/162 [==============================] - 5s 31ms/step - loss: 0.1905 - accuracy: 0.9396 - val_loss: 0.6283 - val_accuracy: 0.8531\n",
            "Epoch 35/60\n",
            "162/162 [==============================] - 3s 21ms/step - loss: 0.1846 - accuracy: 0.9415 - val_loss: 0.6275 - val_accuracy: 0.8618\n",
            "Epoch 36/60\n",
            "162/162 [==============================] - 5s 28ms/step - loss: 0.1761 - accuracy: 0.9454 - val_loss: 0.6404 - val_accuracy: 0.8662\n",
            "Epoch 37/60\n",
            "162/162 [==============================] - 5s 31ms/step - loss: 0.1684 - accuracy: 0.9450 - val_loss: 0.6502 - val_accuracy: 0.8596\n",
            "Epoch 38/60\n",
            "162/162 [==============================] - 4s 22ms/step - loss: 0.1632 - accuracy: 0.9501 - val_loss: 0.6278 - val_accuracy: 0.8596\n",
            "Epoch 39/60\n",
            "162/162 [==============================] - 4s 22ms/step - loss: 0.1533 - accuracy: 0.9512 - val_loss: 0.5829 - val_accuracy: 0.8662\n",
            "Epoch 40/60\n",
            "162/162 [==============================] - 5s 32ms/step - loss: 0.1478 - accuracy: 0.9582 - val_loss: 0.6224 - val_accuracy: 0.8640\n",
            "Epoch 41/60\n",
            "162/162 [==============================] - 5s 28ms/step - loss: 0.1398 - accuracy: 0.9617 - val_loss: 0.6036 - val_accuracy: 0.8684\n",
            "Epoch 42/60\n",
            "162/162 [==============================] - 4s 22ms/step - loss: 0.1347 - accuracy: 0.9609 - val_loss: 0.5573 - val_accuracy: 0.8816\n",
            "Epoch 43/60\n",
            "162/162 [==============================] - 4s 23ms/step - loss: 0.1367 - accuracy: 0.9605 - val_loss: 0.5384 - val_accuracy: 0.8684\n",
            "Epoch 44/60\n",
            "162/162 [==============================] - 6s 35ms/step - loss: 0.1243 - accuracy: 0.9652 - val_loss: 0.5393 - val_accuracy: 0.8794\n",
            "Epoch 45/60\n",
            "162/162 [==============================] - 4s 25ms/step - loss: 0.1185 - accuracy: 0.9683 - val_loss: 0.5261 - val_accuracy: 0.8706\n",
            "Epoch 46/60\n",
            "162/162 [==============================] - 4s 22ms/step - loss: 0.1111 - accuracy: 0.9698 - val_loss: 0.5387 - val_accuracy: 0.8794\n",
            "Epoch 47/60\n",
            "162/162 [==============================] - 4s 23ms/step - loss: 0.1031 - accuracy: 0.9717 - val_loss: 0.5160 - val_accuracy: 0.8838\n",
            "Epoch 48/60\n",
            "162/162 [==============================] - 6s 38ms/step - loss: 0.0984 - accuracy: 0.9748 - val_loss: 0.4779 - val_accuracy: 0.8969\n",
            "Epoch 49/60\n",
            "162/162 [==============================] - 4s 22ms/step - loss: 0.0943 - accuracy: 0.9748 - val_loss: 0.5068 - val_accuracy: 0.8925\n",
            "Epoch 50/60\n",
            "162/162 [==============================] - 4s 22ms/step - loss: 0.0886 - accuracy: 0.9768 - val_loss: 0.5047 - val_accuracy: 0.8991\n",
            "Epoch 51/60\n",
            "162/162 [==============================] - 4s 27ms/step - loss: 0.0839 - accuracy: 0.9795 - val_loss: 0.4840 - val_accuracy: 0.8969\n",
            "Epoch 52/60\n",
            "162/162 [==============================] - 5s 33ms/step - loss: 0.0794 - accuracy: 0.9799 - val_loss: 0.4557 - val_accuracy: 0.9013\n",
            "Epoch 53/60\n",
            "162/162 [==============================] - 4s 23ms/step - loss: 0.0899 - accuracy: 0.9752 - val_loss: 0.3841 - val_accuracy: 0.9167\n",
            "Epoch 54/60\n",
            "162/162 [==============================] - 4s 23ms/step - loss: 0.0763 - accuracy: 0.9818 - val_loss: 0.4000 - val_accuracy: 0.9145\n",
            "Epoch 55/60\n",
            "162/162 [==============================] - 5s 32ms/step - loss: 0.0678 - accuracy: 0.9888 - val_loss: 0.4210 - val_accuracy: 0.8991\n",
            "Epoch 56/60\n",
            "162/162 [==============================] - 5s 28ms/step - loss: 0.0628 - accuracy: 0.9892 - val_loss: 0.4863 - val_accuracy: 0.8904\n",
            "Epoch 57/60\n",
            "162/162 [==============================] - 4s 22ms/step - loss: 0.0602 - accuracy: 0.9880 - val_loss: 0.4856 - val_accuracy: 0.8882\n",
            "Epoch 58/60\n",
            "162/162 [==============================] - 4s 23ms/step - loss: 0.0562 - accuracy: 0.9868 - val_loss: 0.4329 - val_accuracy: 0.8969\n",
            "Epoch 59/60\n",
            "162/162 [==============================] - 6s 36ms/step - loss: 0.0541 - accuracy: 0.9892 - val_loss: 0.4064 - val_accuracy: 0.9101\n",
            "Epoch 60/60\n",
            "162/162 [==============================] - 4s 23ms/step - loss: 0.0503 - accuracy: 0.9895 - val_loss: 0.4508 - val_accuracy: 0.8991\n",
            "17/17 - 0s - loss: 0.8638 - accuracy: 0.8827 - 287ms/epoch - 17ms/step\n"
          ]
        }
      ],
      "source": [
        "\n",
        "inputs1 = tf.keras.Input(shape=x[0].shape, name='Input_signals')\n",
        "feature_input = tf.keras.Input((number_of_selected_features,), name=\"selected_feature\")\n",
        "model1 = layers.Conv1D(filters = 25, kernel_size=(3), name=\"Conv1D_1\", activation='relu')(inputs1)\n",
        "model1 = layers.MaxPool1D(pool_size = (7), name=\"MaxPool1D_1\")(model1)\n",
        "model1 = layers.Conv1D(filters = 10, kernel_size=(3), name=\"Conv1D_2\", activation='relu')(model1)\n",
        "model1 = layers.MaxPool1D(pool_size = (10), name=\"MaxPool1D_2\")(model1)\n",
        "# model1 = layers.Conv1D(filters = 20, kernel_size=(3), name=\"Conv1D_3\")(model1)\n",
        "# model1 = layers.MaxPool1D(pool_size = (2), name=\"MaxPool1D_3\")(model1)\n",
        "# model1 = layers.Conv1D(filters = 18, kernel_size=(3), name=\"Conv1D_4\")(model1)\n",
        "# model1 = layers.MaxPool1D(pool_size = (3), name=\"MaxPool1D_4\")(model1)\n",
        "model1 = layers.Flatten( name=\"flatten_layer\")(model1)\n",
        "model1 = layers.Dense(75, activation='relu', name=\"fully_connected_signal_1\")(model1)\n",
        "model1 = layers.Dense(20, activation='relu', name=\"fully_connected_signal_2\")(model1)\n",
        "\n",
        "model2 = layers.Dense(number_of_selected_features, activation='relu', name='fully_connected_feature', trainable=False)(feature_input)\n",
        "\n",
        "concat_layer= tf.keras.layers.Concatenate(name=\"Concatenate\")([model1,model2])\n",
        "outputs = layers.Dense(2, name='classification', activation='softmax')(concat_layer)\n",
        "\n",
        "model = tf.keras.Model([inputs1, feature_input], outputs)\n",
        "\n",
        "base_learning_rate = 0.000070\n",
        "model.compile(optimizer=tf.keras.optimizers.Adam(lr=base_learning_rate),\n",
        "              loss={'classification': tf.keras.losses.CategoricalCrossentropy()},\n",
        "             \n",
        "              metrics=['accuracy'])\n",
        "\n",
        "history = model.fit([x_train, x_feature],\n",
        "                    y = y_train,\n",
        "                    batch_size=16,\n",
        "                    epochs=60,\n",
        "                    validation_data=([x_val, x_feature_val], y_val))\n",
        "\n",
        "model_loss, model_accuracy = model.evaluate([x_test, x_feature_test], y_test, verbose=2)\n",
        "\n",
        "\n"
      ]
    },
    {
      "cell_type": "code",
      "source": [
        "model.summary()"
      ],
      "metadata": {
        "colab": {
          "base_uri": "https://localhost:8080/"
        },
        "id": "mDt_dbONK5ZV",
        "outputId": "c2ded801-014e-4fc1-9e6d-24b4d5758325"
      },
      "execution_count": 480,
      "outputs": [
        {
          "output_type": "stream",
          "name": "stdout",
          "text": [
            "Model: \"model_45\"\n",
            "__________________________________________________________________________________________________\n",
            " Layer (type)                   Output Shape         Param #     Connected to                     \n",
            "==================================================================================================\n",
            " Input_signals (InputLayer)     [(None, 1792, 2)]    0           []                               \n",
            "                                                                                                  \n",
            " Conv1D_1 (Conv1D)              (None, 1790, 25)     175         ['Input_signals[0][0]']          \n",
            "                                                                                                  \n",
            " MaxPool1D_1 (MaxPooling1D)     (None, 255, 25)      0           ['Conv1D_1[0][0]']               \n",
            "                                                                                                  \n",
            " Conv1D_2 (Conv1D)              (None, 253, 10)      760         ['MaxPool1D_1[0][0]']            \n",
            "                                                                                                  \n",
            " MaxPool1D_2 (MaxPooling1D)     (None, 25, 10)       0           ['Conv1D_2[0][0]']               \n",
            "                                                                                                  \n",
            " flatten_layer (Flatten)        (None, 250)          0           ['MaxPool1D_2[0][0]']            \n",
            "                                                                                                  \n",
            " fully_connected_signal_1 (Dens  (None, 75)          18825       ['flatten_layer[0][0]']          \n",
            " e)                                                                                               \n",
            "                                                                                                  \n",
            " selected_feature (InputLayer)  [(None, 5)]          0           []                               \n",
            "                                                                                                  \n",
            " fully_connected_signal_2 (Dens  (None, 20)          1520        ['fully_connected_signal_1[0][0]'\n",
            " e)                                                              ]                                \n",
            "                                                                                                  \n",
            " fully_connected_feature (Dense  (None, 5)           30          ['selected_feature[0][0]']       \n",
            " )                                                                                                \n",
            "                                                                                                  \n",
            " Concatenate (Concatenate)      (None, 25)           0           ['fully_connected_signal_2[0][0]'\n",
            "                                                                 , 'fully_connected_feature[0][0]'\n",
            "                                                                 ]                                \n",
            "                                                                                                  \n",
            " classification (Dense)         (None, 2)            52          ['Concatenate[0][0]']            \n",
            "                                                                                                  \n",
            "==================================================================================================\n",
            "Total params: 21,362\n",
            "Trainable params: 21,332\n",
            "Non-trainable params: 30\n",
            "__________________________________________________________________________________________________\n"
          ]
        }
      ]
    },
    {
      "cell_type": "markdown",
      "source": [
        "#  schematic of final model"
      ],
      "metadata": {
        "id": "_RlrD8h1DajK"
      }
    },
    {
      "cell_type": "code",
      "source": [
        "tf.keras.utils.plot_model(model, show_shapes=True)"
      ],
      "metadata": {
        "colab": {
          "base_uri": "https://localhost:8080/",
          "height": 1000
        },
        "id": "aDrWsS7ZBPhv",
        "outputId": "07f277f1-69e5-454d-d90c-8f829738c9fc"
      },
      "execution_count": 481,
      "outputs": [
        {
          "output_type": "execute_result",
          "data": {
            "image/png": "[encoded data removed]",
            "text/plain": [
              "<IPython.core.display.Image object>"
            ]
          },
          "metadata": {},
          "execution_count": 481
        }
      ]
    },
    {
      "cell_type": "markdown",
      "source": [
        "# ploting train and validation accuracy"
      ],
      "metadata": {
        "id": "pAM5Px_5DxRB"
      }
    },
    {
      "cell_type": "code",
      "source": [
        "acc = history.history['accuracy']\n",
        "val_acc = history.history['val_accuracy']\n",
        "loss = history.history['loss']\n",
        "val_loss = history.history['val_loss']\n",
        "\n",
        "plt.figure(figsize=(8, 8))\n",
        "plt.subplot(2, 1, 1)\n",
        "plt.plot(acc, label='Training Accuracy')\n",
        "plt.plot(val_acc, label='Validation Accuracy')\n",
        "plt.legend(loc='lower right')\n",
        "plt.ylabel('Accuracy')\n",
        "plt.ylim([min(plt.ylim()), 1])\n",
        "plt.title('Training and Validation Accuracy')\n",
        "\n",
        "plt.subplot(2, 1, 2)\n",
        "plt.plot(loss, label='Training Loss')\n",
        "plt.plot(val_loss, label='Validation Loss')\n",
        "plt.legend(loc='lower left')\n",
        "plt.ylabel('Loss')\n",
        "plt.ylim([0, 2.0])\n",
        "plt.title('Training and Validation Loss')\n",
        "plt.xlabel('epoch')\n",
        "plt.show()\n",
        "\n",
        "model.save('models/')"
      ],
      "metadata": {
        "colab": {
          "base_uri": "https://localhost:8080/",
          "height": 535
        },
        "id": "Pi9lV5F6U_hg",
        "outputId": "b2e81559-8d40-401d-f497-25f161942d0a"
      },
      "execution_count": 501,
      "outputs": [
        {
          "output_type": "display_data",
          "data": {
            "text/plain": [
              "<Figure size 576x576 with 2 Axes>"
            ],
            "image/png": "[encoded data removed]"
          },
          "metadata": {}
        },
        {
          "output_type": "stream",
          "name": "stderr",
          "text": [
            "WARNING:absl:Found untraced functions such as _jit_compiled_convolution_op while saving (showing 1 of 1). These functions will not be directly callable after loading.\n"
          ]
        }
      ]
    },
    {
      "cell_type": "markdown",
      "source": [
        "# Create confusion matrix and normalizes it over predicted (columns)"
      ],
      "metadata": {
        "id": "KBMH1JGpIB1D"
      }
    },
    {
      "cell_type": "code",
      "execution_count": 483,
      "metadata": {
        "id": "2Z2FMW1zgdgT",
        "colab": {
          "base_uri": "https://localhost:8080/"
        },
        "outputId": "8e18f0bc-e1c6-464e-b619-94f3f5f24dd9"
      },
      "outputs": [
        {
          "output_type": "stream",
          "name": "stdout",
          "text": [
            "17/17 [==============================] - 0s 20ms/step\n",
            "[[0.85099338 0.07659574]\n",
            " [0.14900662 0.92340426]]\n"
          ]
        }
      ],
      "source": [
        "y_prediction = model.predict([x_test, x_feature_test])\n",
        "y_prediction = np.argmax (y_prediction, axis = 1)\n",
        "y_test_after_fit =np.argmax(y_test, axis=1)\n",
        "cm = confusion_matrix(y_test_after_fit, y_prediction , normalize='pred')\n",
        "print(cm)"
      ]
    },
    {
      "cell_type": "markdown",
      "source": [
        "# calculating recall, precision and f1-score of test data"
      ],
      "metadata": {
        "id": "KMguRTtFIHoK"
      }
    },
    {
      "cell_type": "code",
      "source": [
        "recall = np.diag(cm) / np.sum(cm, axis = 1)\n",
        "recall = np.min(recall)\n",
        "print(\"recall : \", recall)\n",
        "precision = np.diag(cm) / np.sum(cm, axis = 0)\n",
        "precision = np.min(precision)\n",
        "print(\"precision : \", precision)\n",
        "\n",
        "f1 = 2 * (recall * precision) / (recall + precision)\n",
        "print(\"f1_score: \", f1)"
      ],
      "metadata": {
        "id": "fdN6LMBZFguO",
        "colab": {
          "base_uri": "https://localhost:8080/"
        },
        "outputId": "b4766f74-a75f-4dde-ce9c-2b29496e1213"
      },
      "execution_count": 484,
      "outputs": [
        {
          "output_type": "stream",
          "name": "stdout",
          "text": [
            "recall :  0.8610545401989251\n",
            "precision :  0.8509933774834437\n",
            "f1_score:  0.855994395709761\n"
          ]
        }
      ]
    },
    {
      "cell_type": "markdown",
      "source": [
        "# calculating ROC"
      ],
      "metadata": {
        "id": "-1W6LUscL8Q2"
      }
    },
    {
      "cell_type": "code",
      "execution_count": 485,
      "metadata": {
        "id": "KK4fx40MnMLQ",
        "colab": {
          "base_uri": "https://localhost:8080/",
          "height": 301
        },
        "outputId": "599dfb3c-a3e2-4cee-c8fe-724280206754"
      },
      "outputs": [
        {
          "output_type": "display_data",
          "data": {
            "text/plain": [
              "<Figure size 432x288 with 1 Axes>"
            ],
            "image/png": "[encoded data removed]"
          },
          "metadata": {}
        }
      ],
      "source": [
        "fpr, tpr, thresholds = metrics.roc_curve(y_test_after_fit, y_prediction)\n",
        "roc_auc = metrics.auc(fpr, tpr)\n",
        "\n",
        "plt.figure()\n",
        "lw = 2\n",
        "plt.plot(fpr, tpr, color='darkorange',\n",
        " lw=lw, label='ROC curve (area = %0.2f)' % roc_auc)\n",
        "plt.plot([0, 1], [0, 1], color='navy', lw=lw, linestyle='--')\n",
        "plt.xlim([0.0, 1.0])\n",
        "plt.ylim([0.0, 1.05])\n",
        "plt.xlabel('False Positive Rate')\n",
        "plt.ylabel('True Positive Rate')\n",
        "plt.title('Receiver operating characteristic (ROC)')\n",
        "plt.legend(loc=\"lower right\")\n",
        "plt.show()"
      ]
    },
    {
      "cell_type": "markdown",
      "metadata": {
        "id": "m5BMtRtUwPwA"
      },
      "source": [
        "#having real (full data) as input"
      ]
    },
    {
      "cell_type": "code",
      "execution_count": 486,
      "metadata": {
        "id": "Io707wZvwBfZ",
        "colab": {
          "base_uri": "https://localhost:8080/"
        },
        "outputId": "a7764018-b249-43a2-b4a9-b92c22660730"
      },
      "outputs": [
        {
          "output_type": "stream",
          "name": "stdout",
          "text": [
            "dict_keys(['Rms1', 'Smr1', 'FormFactor2', 'PulseIndicator1', 'Mean1'])\n"
          ]
        }
      ],
      "source": [
        "print(final_feature_dic.keys())"
      ]
    },
    {
      "cell_type": "markdown",
      "source": [
        "# ploting signals of two datas"
      ],
      "metadata": {
        "id": "Ejiw_yS9M5-9"
      }
    },
    {
      "cell_type": "code",
      "source": [
        "\n",
        "false_alarm_dataset_name_1 = \"seizure_data/chb01_03.edf\"\n",
        "\n",
        "f = pyedflib.EdfReader(false_alarm_dataset_name_1)\n",
        "sigbufs1 = np.zeros((2, f.getNSamples()[0]))\n",
        "\n",
        "sigbufs1[0, :] = f.readSignal(16)\n",
        "\n",
        "false_alarm_dataset_name_2 = \"seizure_data/chb05_06.edf\"\n",
        "f._close()\n",
        "f = pyedflib.EdfReader(false_alarm_dataset_name_2)\n",
        "sigbufs2 = np.zeros((2, f.getNSamples()[0]))\n",
        "\n",
        "sigbufs2[0, :] = f.readSignal(16)\n",
        "\n",
        "plt.plot(sigbufs2[0, :])\n",
        "plt.plot(sigbufs1[0, :])\n",
        "f._close()"
      ],
      "metadata": {
        "id": "2f6TzuKVtgAm",
        "colab": {
          "base_uri": "https://localhost:8080/",
          "height": 269
        },
        "outputId": "89e7ca66-5ed5-47f3-be69-b7038bcddbeb"
      },
      "execution_count": 487,
      "outputs": [
        {
          "output_type": "display_data",
          "data": {
            "text/plain": [
              "<Figure size 432x288 with 1 Axes>"
            ],
            "image/png": "[encoded data removed]"
          },
          "metadata": {}
        }
      ]
    },
    {
      "cell_type": "markdown",
      "source": [
        "<div style=\"direction:rtl\", align='right'> \n",
        " در اینجا داده ای که داریم به صورت یک ساعته بوده و پنجره نشده است. برای این کار دو داده \n",
        "\n",
        "\n",
        "- chb01_01\n",
        "- chb05_06\n",
        "\n",
        "را برای بررسی داریم که داده اول یکی از داده های داخل آموزش بوده ولی داده دیگر در آموزش حضور نداشته است\n",
        "\n",
        "مطابق بخش های قبل روی دو کانال مشخص شده داده مورد نظر پنجره زده و فیچر های آنها را بدست می آوریم و در ادامه با توجه به محل آن ها در بازه و فاصله آن ها از زمان تشنج، لیبل آن ها را بدست می آوریم   \n",
        "</div>\n"
      ],
      "metadata": {
        "id": "heQ2YMn9OEvK"
      }
    },
    {
      "cell_type": "code",
      "execution_count": 488,
      "metadata": {
        "id": "oj7g2e85o6Bb",
        "colab": {
          "base_uri": "https://localhost:8080/"
        },
        "outputId": "e9635eb2-899b-4185-ac9e-8290939354a6"
      },
      "outputs": [
        {
          "output_type": "stream",
          "name": "stdout",
          "text": [
            "(3593, 1792, 2)\n",
            "(3593, 5)\n",
            "113/113 [==============================] - 2s 14ms/step\n"
          ]
        }
      ],
      "source": [
        "false_alarm_dataset_name = \"seizure_data/chb01_03.edf\"\n",
        "\n",
        "start_time_freq = 2996 * freq_sampling\n",
        "end_time_freq =  3036 * freq_sampling\n",
        "\n",
        "\n",
        "# false_alarm_dataset_name = \"seizure_data/chb05_06.edf\"\n",
        "# start_time_freq = 417 * freq_sampling\n",
        "# end_time_freq =  532 * freq_sampling\n",
        "\n",
        "\n",
        "f = pyedflib.EdfReader(false_alarm_dataset_name)\n",
        "sigbufs = np.zeros((2, f.getNSamples()[0]))\n",
        "\n",
        "sigbufs[0, :] = f.readSignal(16)\n",
        "sigbufs[1, :] = f.readSignal(17)\n",
        "# butter filter\n",
        "b, a = butter(3, [0.5,40], btype='bandpass',fs=freq_sampling)\n",
        "channel1_filtered = np.array([lfilter(b,a,sigbufs[0,:])])\n",
        "channel2_filtered = np.array([lfilter(b,a,sigbufs[1,:])])\n",
        "\n",
        "false_alaram_dataset = np.arange(2 * (3600 * freq_sampling)).reshape((3600 * freq_sampling), 2)\n",
        "false_alaram_dataset[:, 0] = channel1_filtered[0, :]\n",
        "false_alaram_dataset[:, 1] = channel2_filtered[0, :]\n",
        "res = []\n",
        "window_shift_for_false_alarm = 1\n",
        "\n",
        "data_window_signal = np.arange((3600 - (windows_size - 1) - 1) * window_len * 2).reshape((3600 - (windows_size - 1) - 1), window_len, 2);\n",
        "data_feature = np.arange((3600 - (windows_size - 1)- 1) * 5).reshape((3600 - (windows_size - 1) - 1), 5)\n",
        "label_signal = np.arange((3600 - (windows_size - 1) - 1))\n",
        "\n",
        "counter = 0\n",
        "for window_start in range(0, ((3600 - windows_size) * freq_sampling), freq_sampling * window_shift_for_false_alarm):\n",
        "    selected_window = false_alaram_dataset[window_start: (window_start + window_len ), :]\n",
        "    data_window_signal[counter] = selected_window\n",
        "\n",
        "    selected_features = np.arange(number_of_selected_features)\n",
        "    selected_features[0] = np.sqrt(np.mean((selected_window[:, 0])**2))\n",
        "    selected_features[1] = (np.sqrt(np.mean((selected_window[:, 0])**2)))/(np.mean(np.abs(selected_window[:, 0])))\n",
        "    selected_features[2] = stats.skew(selected_window[:, 1])\n",
        "    selected_features[3] = stats.kurtosis(selected_window[:, 0])\n",
        "    selected_features[4] = np.mean(selected_window[:, 0])\n",
        "\n",
        "  # if (window_start + int(window_len / 2)) > start_time_freq and (window_start + int(window_len / 2)) < end_time_freq :\n",
        "  #   label_signal[counter] = 1\n",
        "    \n",
        "    if window_start > start_time_freq and  (window_start + window_len) < end_time_freq:\n",
        "      label_signal[counter] = 1 \n",
        "    else :\n",
        "      label_signal[counter] = 0\n",
        "\n",
        "\n",
        "    data_feature[counter] =  selected_features\n",
        "    counter += 1\n",
        "\n",
        "\n",
        "print(data_window_signal.shape)\n",
        "print(data_feature.shape)\n",
        "y_prediction = model.predict([data_window_signal, data_feature])\n",
        "f._close()"
      ]
    },
    {
      "cell_type": "markdown",
      "source": [
        "# ploting lable of signal"
      ],
      "metadata": {
        "id": "XKlGokYxRryo"
      }
    },
    {
      "cell_type": "code",
      "execution_count": 489,
      "metadata": {
        "id": "hdBTZDoFAk5B",
        "colab": {
          "base_uri": "https://localhost:8080/",
          "height": 285
        },
        "outputId": "a8acb515-e3d2-454a-da82-6c314fc645c3"
      },
      "outputs": [
        {
          "output_type": "execute_result",
          "data": {
            "text/plain": [
              "[<matplotlib.lines.Line2D at 0x7fd99b3e3f10>]"
            ]
          },
          "metadata": {},
          "execution_count": 489
        },
        {
          "output_type": "display_data",
          "data": {
            "text/plain": [
              "<Figure size 432x288 with 1 Axes>"
            ],
            "image/png": "[encoded data removed]"
          },
          "metadata": {}
        }
      ],
      "source": [
        "plt.plot(label_signal)"
      ]
    },
    {
      "cell_type": "markdown",
      "source": [
        "#plot of predicted lable by model"
      ],
      "metadata": {
        "id": "3LR5AcKwR3wg"
      }
    },
    {
      "cell_type": "code",
      "execution_count": 490,
      "metadata": {
        "id": "gwoYJD60CLcA",
        "colab": {
          "base_uri": "https://localhost:8080/",
          "height": 268
        },
        "outputId": "4f639cda-ac38-4909-fb06-c40635143ac8"
      },
      "outputs": [
        {
          "output_type": "display_data",
          "data": {
            "text/plain": [
              "<Figure size 432x288 with 1 Axes>"
            ],
            "image/png": "[encoded data removed]"
          },
          "metadata": {}
        }
      ],
      "source": [
        "plt.plot(np.argmax(y_prediction, axis=1))\n",
        "predicted_label = np.argmax(y_prediction, axis=1)\n",
        "# np.argmax(y_prediction, axis=1)"
      ]
    },
    {
      "cell_type": "markdown",
      "source": [
        "# the valu of predicted labled around seizure ooeriod"
      ],
      "metadata": {
        "id": "6g_VriL7R-iD"
      }
    },
    {
      "cell_type": "code",
      "execution_count": 491,
      "metadata": {
        "id": "gv8B18b7MEtP",
        "colab": {
          "base_uri": "https://localhost:8080/"
        },
        "outputId": "67220d3a-14dd-49ec-a9e8-2c85dba30863"
      },
      "outputs": [
        {
          "output_type": "execute_result",
          "data": {
            "text/plain": [
              "array([0, 0, 0, 0, 0, 1, 1, 1, 1, 1, 1, 1, 1, 1, 1, 1, 1, 1, 0, 1, 1, 1,\n",
              "       1, 1, 1, 1, 1, 1, 1, 1, 1, 1, 1, 1, 1, 1, 1, 1, 1, 1, 0, 1, 0, 1,\n",
              "       1, 1, 0, 1, 1, 1])"
            ]
          },
          "metadata": {},
          "execution_count": 491
        }
      ],
      "source": [
        "predicted_label[2990:3040 ]"
      ]
    },
    {
      "cell_type": "markdown",
      "source": [
        "# calculating false alarm\n",
        "\n",
        "false alarm\n",
        "<div style=\"direction:rtl\", align='right'> \n",
        "منظور پنجره هایی در واقعیت محل تشنج نبودند اما شبکه به اشتباه آن ها تشنج پیشبینی کرده است  \n",
        "\n",
        "برای محاسبه آن کافی است در یک حلقه بررسی کنیم که اگر پیشبینی تشنج و لیبل اصلی نرمال بود؛ آن پنچره را به عنوان عنصر فالس آلارم بشناسیم\n",
        "</div>"
      ],
      "metadata": {
        "id": "-7LAHYOyS6s0"
      }
    },
    {
      "cell_type": "code",
      "execution_count": 492,
      "metadata": {
        "id": "TOChiSXrEBxA",
        "colab": {
          "base_uri": "https://localhost:8080/",
          "height": 303
        },
        "outputId": "6cfc1f08-b03e-4696-db62-05585661cc04"
      },
      "outputs": [
        {
          "output_type": "stream",
          "name": "stdout",
          "text": [
            "904\n"
          ]
        },
        {
          "output_type": "execute_result",
          "data": {
            "text/plain": [
              "[<matplotlib.lines.Line2D at 0x7fd9c72e8100>]"
            ]
          },
          "metadata": {},
          "execution_count": 492
        },
        {
          "output_type": "display_data",
          "data": {
            "text/plain": [
              "<Figure size 432x288 with 1 Axes>"
            ],
            "image/png": "[encoded data removed]"
          },
          "metadata": {}
        }
      ],
      "source": [
        "false_alarm_count = np.zeros_like(predicted_label)\n",
        "count = 0\n",
        "for index in range(len(predicted_label)):\n",
        "    if label_signal[index] == 0 and predicted_label[index] == 1:\n",
        "      false_alarm_count[index] = 1\n",
        "      count += 1\n",
        "\n",
        "print(count)\n",
        "plt.plot(false_alarm_count)"
      ]
    },
    {
      "cell_type": "markdown",
      "source": [
        "# calculating fals alarm lenght"
      ],
      "metadata": {
        "id": "A0R8UNiWWC_Z"
      }
    },
    {
      "cell_type": "code",
      "execution_count": 493,
      "metadata": {
        "id": "wdPMgaPHL-AF"
      },
      "outputs": [],
      "source": [
        "seizure_prieod_list = []\n",
        "label_preiod_count = 8\n",
        "threshold_priod = 5\n",
        "for pred_label_index in range(len(predicted_label) - label_preiod_count):\n",
        "  seizure_count = 0\n",
        "  for i in range(pred_label_index, pred_label_index + label_preiod_count):\n",
        "    if predicted_label[i] == 1:\n",
        "      seizure_count += 1\n",
        "\n",
        "\n",
        "  if seizure_count >= threshold_priod:\n",
        "    seizure_prieod_list.append([pred_label_index, pred_label_index + label_preiod_count - 1])"
      ]
    },
    {
      "cell_type": "code",
      "source": [
        "seizure_prieod_list"
      ],
      "metadata": {
        "id": "9SqNDtQo3OPW",
        "colab": {
          "base_uri": "https://localhost:8080/"
        },
        "outputId": "4a61baf5-c1ff-4c0a-a8e7-e6d6c4a1c5c8"
      },
      "execution_count": 494,
      "outputs": [
        {
          "output_type": "execute_result",
          "data": {
            "text/plain": [
              "[[550, 557],\n",
              " [551, 558],\n",
              " [552, 559],\n",
              " [556, 563],\n",
              " [557, 564],\n",
              " [560, 567],\n",
              " [561, 568],\n",
              " [562, 569],\n",
              " [663, 670],\n",
              " [664, 671],\n",
              " [674, 681],\n",
              " [675, 682],\n",
              " [676, 683],\n",
              " [677, 684],\n",
              " [678, 685],\n",
              " [679, 686],\n",
              " [680, 687],\n",
              " [681, 688],\n",
              " [744, 751],\n",
              " [777, 784],\n",
              " [778, 785],\n",
              " [779, 786],\n",
              " [780, 787],\n",
              " [781, 788],\n",
              " [782, 789],\n",
              " [783, 790],\n",
              " [784, 791],\n",
              " [785, 792],\n",
              " [786, 793],\n",
              " [787, 794],\n",
              " [788, 795],\n",
              " [789, 796],\n",
              " [790, 797],\n",
              " [801, 808],\n",
              " [802, 809],\n",
              " [803, 810],\n",
              " [831, 838],\n",
              " [832, 839],\n",
              " [833, 840],\n",
              " [834, 841],\n",
              " [835, 842],\n",
              " [836, 843],\n",
              " [837, 844],\n",
              " [838, 845],\n",
              " [839, 846],\n",
              " [849, 856],\n",
              " [851, 858],\n",
              " [852, 859],\n",
              " [853, 860],\n",
              " [854, 861],\n",
              " [855, 862],\n",
              " [856, 863],\n",
              " [857, 864],\n",
              " [858, 865],\n",
              " [859, 866],\n",
              " [860, 867],\n",
              " [861, 868],\n",
              " [862, 869],\n",
              " [863, 870],\n",
              " [864, 871],\n",
              " [883, 890],\n",
              " [884, 891],\n",
              " [885, 892],\n",
              " [903, 910],\n",
              " [904, 911],\n",
              " [905, 912],\n",
              " [906, 913],\n",
              " [907, 914],\n",
              " [908, 915],\n",
              " [909, 916],\n",
              " [910, 917],\n",
              " [911, 918],\n",
              " [912, 919],\n",
              " [913, 920],\n",
              " [914, 921],\n",
              " [915, 922],\n",
              " [916, 923],\n",
              " [917, 924],\n",
              " [937, 944],\n",
              " [953, 960],\n",
              " [954, 961],\n",
              " [955, 962],\n",
              " [956, 963],\n",
              " [957, 964],\n",
              " [958, 965],\n",
              " [959, 966],\n",
              " [960, 967],\n",
              " [971, 978],\n",
              " [974, 981],\n",
              " [975, 982],\n",
              " [980, 987],\n",
              " [983, 990],\n",
              " [984, 991],\n",
              " [985, 992],\n",
              " [986, 993],\n",
              " [987, 994],\n",
              " [988, 995],\n",
              " [989, 996],\n",
              " [990, 997],\n",
              " [991, 998],\n",
              " [992, 999],\n",
              " [993, 1000],\n",
              " [994, 1001],\n",
              " [995, 1002],\n",
              " [996, 1003],\n",
              " [997, 1004],\n",
              " [998, 1005],\n",
              " [999, 1006],\n",
              " [1000, 1007],\n",
              " [1001, 1008],\n",
              " [1002, 1009],\n",
              " [1003, 1010],\n",
              " [1014, 1021],\n",
              " [1015, 1022],\n",
              " [1016, 1023],\n",
              " [1017, 1024],\n",
              " [1018, 1025],\n",
              " [1019, 1026],\n",
              " [1020, 1027],\n",
              " [1021, 1028],\n",
              " [1026, 1033],\n",
              " [1027, 1034],\n",
              " [1028, 1035],\n",
              " [1029, 1036],\n",
              " [1030, 1037],\n",
              " [1031, 1038],\n",
              " [1032, 1039],\n",
              " [1033, 1040],\n",
              " [1042, 1049],\n",
              " [1043, 1050],\n",
              " [1062, 1069],\n",
              " [1063, 1070],\n",
              " [1064, 1071],\n",
              " [1065, 1072],\n",
              " [1066, 1073],\n",
              " [1067, 1074],\n",
              " [1068, 1075],\n",
              " [1069, 1076],\n",
              " [1070, 1077],\n",
              " [1071, 1078],\n",
              " [1072, 1079],\n",
              " [1073, 1080],\n",
              " [1074, 1081],\n",
              " [1075, 1082],\n",
              " [1076, 1083],\n",
              " [1077, 1084],\n",
              " [1078, 1085],\n",
              " [1079, 1086],\n",
              " [1080, 1087],\n",
              " [1081, 1088],\n",
              " [1082, 1089],\n",
              " [1107, 1114],\n",
              " [1108, 1115],\n",
              " [1109, 1116],\n",
              " [1110, 1117],\n",
              " [1111, 1118],\n",
              " [1112, 1119],\n",
              " [1120, 1127],\n",
              " [1121, 1128],\n",
              " [1122, 1129],\n",
              " [1123, 1130],\n",
              " [1124, 1131],\n",
              " [1125, 1132],\n",
              " [1126, 1133],\n",
              " [1127, 1134],\n",
              " [1128, 1135],\n",
              " [1129, 1136],\n",
              " [1130, 1137],\n",
              " [1131, 1138],\n",
              " [1132, 1139],\n",
              " [1133, 1140],\n",
              " [1134, 1141],\n",
              " [1135, 1142],\n",
              " [1136, 1143],\n",
              " [1138, 1145],\n",
              " [1140, 1147],\n",
              " [1141, 1148],\n",
              " [1142, 1149],\n",
              " [1143, 1150],\n",
              " [1144, 1151],\n",
              " [1145, 1152],\n",
              " [1146, 1153],\n",
              " [1147, 1154],\n",
              " [1148, 1155],\n",
              " [1156, 1163],\n",
              " [1157, 1164],\n",
              " [1158, 1165],\n",
              " [1159, 1166],\n",
              " [1160, 1167],\n",
              " [1161, 1168],\n",
              " [1162, 1169],\n",
              " [1163, 1170],\n",
              " [1164, 1171],\n",
              " [1165, 1172],\n",
              " [1166, 1173],\n",
              " [1168, 1175],\n",
              " [1169, 1176],\n",
              " [1172, 1179],\n",
              " [1173, 1180],\n",
              " [1174, 1181],\n",
              " [1175, 1182],\n",
              " [1176, 1183],\n",
              " [1177, 1184],\n",
              " [1178, 1185],\n",
              " [1179, 1186],\n",
              " [1180, 1187],\n",
              " [1181, 1188],\n",
              " [1182, 1189],\n",
              " [1183, 1190],\n",
              " [1184, 1191],\n",
              " [1185, 1192],\n",
              " [1186, 1193],\n",
              " [1187, 1194],\n",
              " [1188, 1195],\n",
              " [1189, 1196],\n",
              " [1190, 1197],\n",
              " [1191, 1198],\n",
              " [1192, 1199],\n",
              " [1193, 1200],\n",
              " [1194, 1201],\n",
              " [1195, 1202],\n",
              " [1196, 1203],\n",
              " [1197, 1204],\n",
              " [1198, 1205],\n",
              " [1199, 1206],\n",
              " [1200, 1207],\n",
              " [1201, 1208],\n",
              " [1202, 1209],\n",
              " [1203, 1210],\n",
              " [1204, 1211],\n",
              " [1205, 1212],\n",
              " [1206, 1213],\n",
              " [1207, 1214],\n",
              " [1208, 1215],\n",
              " [1209, 1216],\n",
              " [1210, 1217],\n",
              " [1211, 1218],\n",
              " [1212, 1219],\n",
              " [1213, 1220],\n",
              " [1214, 1221],\n",
              " [1215, 1222],\n",
              " [1216, 1223],\n",
              " [1217, 1224],\n",
              " [1225, 1232],\n",
              " [1226, 1233],\n",
              " [1227, 1234],\n",
              " [1228, 1235],\n",
              " [1229, 1236],\n",
              " [1230, 1237],\n",
              " [1231, 1238],\n",
              " [1232, 1239],\n",
              " [1233, 1240],\n",
              " [1234, 1241],\n",
              " [1235, 1242],\n",
              " [1236, 1243],\n",
              " [1237, 1244],\n",
              " [1238, 1245],\n",
              " [1239, 1246],\n",
              " [1240, 1247],\n",
              " [1241, 1248],\n",
              " [1242, 1249],\n",
              " [1243, 1250],\n",
              " [1244, 1251],\n",
              " [1245, 1252],\n",
              " [1246, 1253],\n",
              " [1247, 1254],\n",
              " [1248, 1255],\n",
              " [1249, 1256],\n",
              " [1250, 1257],\n",
              " [1254, 1261],\n",
              " [1255, 1262],\n",
              " [1256, 1263],\n",
              " [1257, 1264],\n",
              " [1258, 1265],\n",
              " [1259, 1266],\n",
              " [1260, 1267],\n",
              " [1261, 1268],\n",
              " [1262, 1269],\n",
              " [1291, 1298],\n",
              " [1292, 1299],\n",
              " [1293, 1300],\n",
              " [1294, 1301],\n",
              " [1295, 1302],\n",
              " [1296, 1303],\n",
              " [1297, 1304],\n",
              " [1298, 1305],\n",
              " [1299, 1306],\n",
              " [1300, 1307],\n",
              " [1301, 1308],\n",
              " [1302, 1309],\n",
              " [1303, 1310],\n",
              " [1304, 1311],\n",
              " [1305, 1312],\n",
              " [1318, 1325],\n",
              " [1328, 1335],\n",
              " [1329, 1336],\n",
              " [1330, 1337],\n",
              " [1331, 1338],\n",
              " [1332, 1339],\n",
              " [1333, 1340],\n",
              " [1334, 1341],\n",
              " [1344, 1351],\n",
              " [1345, 1352],\n",
              " [1346, 1353],\n",
              " [1347, 1354],\n",
              " [1348, 1355],\n",
              " [1350, 1357],\n",
              " [1351, 1358],\n",
              " [1357, 1364],\n",
              " [1360, 1367],\n",
              " [1361, 1368],\n",
              " [1362, 1369],\n",
              " [1363, 1370],\n",
              " [1364, 1371],\n",
              " [1365, 1372],\n",
              " [1366, 1373],\n",
              " [1367, 1374],\n",
              " [1368, 1375],\n",
              " [1369, 1376],\n",
              " [1370, 1377],\n",
              " [1371, 1378],\n",
              " [1372, 1379],\n",
              " [1373, 1380],\n",
              " [1374, 1381],\n",
              " [1375, 1382],\n",
              " [1385, 1392],\n",
              " [1386, 1393],\n",
              " [1387, 1394],\n",
              " [1388, 1395],\n",
              " [1389, 1396],\n",
              " [1390, 1397],\n",
              " [1391, 1398],\n",
              " [1392, 1399],\n",
              " [1393, 1400],\n",
              " [1394, 1401],\n",
              " [1395, 1402],\n",
              " [1396, 1403],\n",
              " [1397, 1404],\n",
              " [1398, 1405],\n",
              " [1399, 1406],\n",
              " [1400, 1407],\n",
              " [1401, 1408],\n",
              " [1402, 1409],\n",
              " [1403, 1410],\n",
              " [1404, 1411],\n",
              " [1405, 1412],\n",
              " [1406, 1413],\n",
              " [1407, 1414],\n",
              " [1408, 1415],\n",
              " [1409, 1416],\n",
              " [1410, 1417],\n",
              " [1411, 1418],\n",
              " [1412, 1419],\n",
              " [1413, 1420],\n",
              " [1414, 1421],\n",
              " [1415, 1422],\n",
              " [1421, 1428],\n",
              " [1422, 1429],\n",
              " [1423, 1430],\n",
              " [1424, 1431],\n",
              " [1425, 1432],\n",
              " [1426, 1433],\n",
              " [1427, 1434],\n",
              " [1428, 1435],\n",
              " [1429, 1436],\n",
              " [1430, 1437],\n",
              " [1431, 1438],\n",
              " [1432, 1439],\n",
              " [1433, 1440],\n",
              " [1434, 1441],\n",
              " [1435, 1442],\n",
              " [1436, 1443],\n",
              " [1437, 1444],\n",
              " [1438, 1445],\n",
              " [1439, 1446],\n",
              " [1440, 1447],\n",
              " [1441, 1448],\n",
              " [1442, 1449],\n",
              " [1443, 1450],\n",
              " [1444, 1451],\n",
              " [1445, 1452],\n",
              " [1456, 1463],\n",
              " [1457, 1464],\n",
              " [1458, 1465],\n",
              " [1459, 1466],\n",
              " [1460, 1467],\n",
              " [1461, 1468],\n",
              " [1462, 1469],\n",
              " [1463, 1470],\n",
              " [1464, 1471],\n",
              " [1465, 1472],\n",
              " [1475, 1482],\n",
              " [1476, 1483],\n",
              " [1477, 1484],\n",
              " [1478, 1485],\n",
              " [1480, 1487],\n",
              " [1481, 1488],\n",
              " [1482, 1489],\n",
              " [1483, 1490],\n",
              " [1484, 1491],\n",
              " [1485, 1492],\n",
              " [1486, 1493],\n",
              " [1487, 1494],\n",
              " [1488, 1495],\n",
              " [1489, 1496],\n",
              " [1490, 1497],\n",
              " [1491, 1498],\n",
              " [1492, 1499],\n",
              " [1493, 1500],\n",
              " [1494, 1501],\n",
              " [1495, 1502],\n",
              " [1496, 1503],\n",
              " [1497, 1504],\n",
              " [1498, 1505],\n",
              " [1499, 1506],\n",
              " [1500, 1507],\n",
              " [1501, 1508],\n",
              " [1502, 1509],\n",
              " [1503, 1510],\n",
              " [1504, 1511],\n",
              " [1505, 1512],\n",
              " [1506, 1513],\n",
              " [1507, 1514],\n",
              " [1508, 1515],\n",
              " [1509, 1516],\n",
              " [1510, 1517],\n",
              " [1511, 1518],\n",
              " [1512, 1519],\n",
              " [1513, 1520],\n",
              " [1514, 1521],\n",
              " [1515, 1522],\n",
              " [1516, 1523],\n",
              " [1517, 1524],\n",
              " [1518, 1525],\n",
              " [1519, 1526],\n",
              " [1520, 1527],\n",
              " [1521, 1528],\n",
              " [1522, 1529],\n",
              " [1523, 1530],\n",
              " [1529, 1536],\n",
              " [1531, 1538],\n",
              " [1532, 1539],\n",
              " [1533, 1540],\n",
              " [1534, 1541],\n",
              " [1535, 1542],\n",
              " [1536, 1543],\n",
              " [1537, 1544],\n",
              " [1538, 1545],\n",
              " [1539, 1546],\n",
              " [1540, 1547],\n",
              " [1541, 1548],\n",
              " [1542, 1549],\n",
              " [1543, 1550],\n",
              " [1544, 1551],\n",
              " [1545, 1552],\n",
              " [1546, 1553],\n",
              " [1547, 1554],\n",
              " [1548, 1555],\n",
              " [1549, 1556],\n",
              " [1550, 1557],\n",
              " [1551, 1558],\n",
              " [1552, 1559],\n",
              " [1553, 1560],\n",
              " [1554, 1561],\n",
              " [1555, 1562],\n",
              " [1556, 1563],\n",
              " [1557, 1564],\n",
              " [1558, 1565],\n",
              " [1559, 1566],\n",
              " [1560, 1567],\n",
              " [1561, 1568],\n",
              " [1562, 1569],\n",
              " [1563, 1570],\n",
              " [1564, 1571],\n",
              " [1565, 1572],\n",
              " [1566, 1573],\n",
              " [1567, 1574],\n",
              " [1568, 1575],\n",
              " [1569, 1576],\n",
              " [1570, 1577],\n",
              " [1571, 1578],\n",
              " [1572, 1579],\n",
              " [1573, 1580],\n",
              " [1574, 1581],\n",
              " [1575, 1582],\n",
              " [1576, 1583],\n",
              " [1577, 1584],\n",
              " [1578, 1585],\n",
              " [1579, 1586],\n",
              " [1580, 1587],\n",
              " [1581, 1588],\n",
              " [1582, 1589],\n",
              " [1583, 1590],\n",
              " [1584, 1591],\n",
              " [1585, 1592],\n",
              " [1586, 1593],\n",
              " [1587, 1594],\n",
              " [1588, 1595],\n",
              " [1589, 1596],\n",
              " [1590, 1597],\n",
              " [1591, 1598],\n",
              " [1592, 1599],\n",
              " [1593, 1600],\n",
              " [1594, 1601],\n",
              " [1595, 1602],\n",
              " [1596, 1603],\n",
              " [1597, 1604],\n",
              " [1598, 1605],\n",
              " [1599, 1606],\n",
              " [1600, 1607],\n",
              " [1601, 1608],\n",
              " [1602, 1609],\n",
              " [1603, 1610],\n",
              " [1604, 1611],\n",
              " [1605, 1612],\n",
              " [1606, 1613],\n",
              " [1607, 1614],\n",
              " [1609, 1616],\n",
              " [1610, 1617],\n",
              " [1611, 1618],\n",
              " [1612, 1619],\n",
              " [1613, 1620],\n",
              " [1614, 1621],\n",
              " [1615, 1622],\n",
              " [1616, 1623],\n",
              " [1635, 1642],\n",
              " [1636, 1643],\n",
              " [1637, 1644],\n",
              " [1638, 1645],\n",
              " [1639, 1646],\n",
              " [1640, 1647],\n",
              " [1641, 1648],\n",
              " [1642, 1649],\n",
              " [1643, 1650],\n",
              " [1644, 1651],\n",
              " [1645, 1652],\n",
              " [1646, 1653],\n",
              " [1647, 1654],\n",
              " [1648, 1655],\n",
              " [1649, 1656],\n",
              " [1656, 1663],\n",
              " [1657, 1664],\n",
              " [1658, 1665],\n",
              " [1659, 1666],\n",
              " [1660, 1667],\n",
              " [1661, 1668],\n",
              " [1674, 1681],\n",
              " [1675, 1682],\n",
              " [1676, 1683],\n",
              " [1677, 1684],\n",
              " [1678, 1685],\n",
              " [1679, 1686],\n",
              " [1680, 1687],\n",
              " [1694, 1701],\n",
              " [1699, 1706],\n",
              " [1700, 1707],\n",
              " [1703, 1710],\n",
              " [1704, 1711],\n",
              " [1705, 1712],\n",
              " [1706, 1713],\n",
              " [1707, 1714],\n",
              " [1708, 1715],\n",
              " [1709, 1716],\n",
              " [1710, 1717],\n",
              " [1711, 1718],\n",
              " [1712, 1719],\n",
              " [1713, 1720],\n",
              " [1714, 1721],\n",
              " [1715, 1722],\n",
              " [1716, 1723],\n",
              " [1717, 1724],\n",
              " [1718, 1725],\n",
              " [1719, 1726],\n",
              " [1720, 1727],\n",
              " [1721, 1728],\n",
              " [2372, 2379],\n",
              " [2373, 2380],\n",
              " [2374, 2381],\n",
              " [2375, 2382],\n",
              " [2376, 2383],\n",
              " [2810, 2817],\n",
              " [2811, 2818],\n",
              " [2992, 2999],\n",
              " [2993, 3000],\n",
              " [2994, 3001],\n",
              " [2995, 3002],\n",
              " [2996, 3003],\n",
              " [2997, 3004],\n",
              " [2998, 3005],\n",
              " [2999, 3006],\n",
              " [3000, 3007],\n",
              " [3001, 3008],\n",
              " [3002, 3009],\n",
              " [3003, 3010],\n",
              " [3004, 3011],\n",
              " [3005, 3012],\n",
              " [3006, 3013],\n",
              " [3007, 3014],\n",
              " [3008, 3015],\n",
              " [3009, 3016],\n",
              " [3010, 3017],\n",
              " [3011, 3018],\n",
              " [3012, 3019],\n",
              " [3013, 3020],\n",
              " [3014, 3021],\n",
              " [3015, 3022],\n",
              " [3016, 3023],\n",
              " [3017, 3024],\n",
              " [3018, 3025],\n",
              " [3019, 3026],\n",
              " [3020, 3027],\n",
              " [3021, 3028],\n",
              " [3022, 3029],\n",
              " [3023, 3030],\n",
              " [3024, 3031],\n",
              " [3025, 3032],\n",
              " [3026, 3033],\n",
              " [3027, 3034],\n",
              " [3028, 3035],\n",
              " [3029, 3036],\n",
              " [3030, 3037],\n",
              " [3031, 3038],\n",
              " [3032, 3039],\n",
              " [3033, 3040],\n",
              " [3034, 3041],\n",
              " [3035, 3042],\n",
              " [3036, 3043],\n",
              " [3037, 3044],\n",
              " [3038, 3045],\n",
              " [3039, 3046],\n",
              " [3040, 3047],\n",
              " [3041, 3048],\n",
              " [3042, 3049],\n",
              " [3043, 3050],\n",
              " [3044, 3051],\n",
              " [3045, 3052],\n",
              " [3046, 3053],\n",
              " [3047, 3054],\n",
              " [3048, 3055],\n",
              " [3049, 3056],\n",
              " [3050, 3057],\n",
              " [3051, 3058],\n",
              " [3052, 3059],\n",
              " [3053, 3060],\n",
              " [3054, 3061],\n",
              " [3055, 3062],\n",
              " [3056, 3063],\n",
              " [3057, 3064],\n",
              " [3058, 3065],\n",
              " [3059, 3066],\n",
              " [3060, 3067],\n",
              " [3061, 3068],\n",
              " [3062, 3069],\n",
              " [3063, 3070],\n",
              " [3064, 3071],\n",
              " [3065, 3072],\n",
              " [3066, 3073],\n",
              " [3067, 3074],\n",
              " [3068, 3075],\n",
              " [3069, 3076],\n",
              " [3070, 3077],\n",
              " [3071, 3078],\n",
              " [3072, 3079],\n",
              " [3073, 3080],\n",
              " [3074, 3081],\n",
              " [3075, 3082],\n",
              " [3076, 3083],\n",
              " [3077, 3084],\n",
              " [3078, 3085],\n",
              " [3079, 3086],\n",
              " [3080, 3087],\n",
              " [3081, 3088],\n",
              " [3082, 3089],\n",
              " [3083, 3090],\n",
              " [3084, 3091],\n",
              " [3089, 3096],\n",
              " [3106, 3113],\n",
              " [3107, 3114],\n",
              " [3109, 3116]]"
            ]
          },
          "metadata": {},
          "execution_count": 494
        }
      ]
    },
    {
      "cell_type": "code",
      "source": [
        "len(seizure_prieod_list)"
      ],
      "metadata": {
        "id": "MknFsIG436L3",
        "colab": {
          "base_uri": "https://localhost:8080/"
        },
        "outputId": "a4bb6c10-055f-4dfe-fe1b-3276244514d4"
      },
      "execution_count": 495,
      "outputs": [
        {
          "output_type": "execute_result",
          "data": {
            "text/plain": [
              "679"
            ]
          },
          "metadata": {},
          "execution_count": 495
        }
      ]
    },
    {
      "cell_type": "markdown",
      "source": [
        "merging sezuire perods"
      ],
      "metadata": {
        "id": "ogSYZTJyWLfO"
      }
    },
    {
      "cell_type": "code",
      "source": [
        "# seizure_prieod_list\n",
        "start = seizure_prieod_list[0][0]\n",
        "end = 0\n",
        "merged_list = []\n",
        "for item in range(len(seizure_prieod_list)-1):\n",
        "  # if (seizure_prieod_list[item][1] == )\n",
        "  if ((seizure_prieod_list[item][1] - seizure_prieod_list[item+1][0]) <= ((-windows_size)/2)):\n",
        "      end = seizure_prieod_list[item][1]\n",
        "      merged_list.append([start, end])\n",
        "      start = seizure_prieod_list[item+1][0]\n",
        "  \n",
        "merged_list.append([start, seizure_prieod_list[len(seizure_prieod_list)-1][1]])\n",
        "print(len(seizure_prieod_list))\n",
        "print(len(merged_list))\n",
        "merged_list"
      ],
      "metadata": {
        "id": "2zSKBzGFwC0X",
        "colab": {
          "base_uri": "https://localhost:8080/"
        },
        "outputId": "dc237ed2-581f-470a-a95b-335bdfd65178"
      },
      "execution_count": 496,
      "outputs": [
        {
          "output_type": "stream",
          "name": "stdout",
          "text": [
            "679\n",
            "24\n"
          ]
        },
        {
          "output_type": "execute_result",
          "data": {
            "text/plain": [
              "[[550, 569],\n",
              " [663, 688],\n",
              " [744, 751],\n",
              " [777, 797],\n",
              " [801, 810],\n",
              " [831, 871],\n",
              " [883, 892],\n",
              " [903, 924],\n",
              " [937, 944],\n",
              " [953, 967],\n",
              " [971, 1010],\n",
              " [1014, 1050],\n",
              " [1062, 1089],\n",
              " [1107, 1269],\n",
              " [1291, 1312],\n",
              " [1318, 1452],\n",
              " [1456, 1623],\n",
              " [1635, 1668],\n",
              " [1674, 1687],\n",
              " [1694, 1728],\n",
              " [2372, 2383],\n",
              " [2810, 2818],\n",
              " [2992, 3096],\n",
              " [3106, 3116]]"
            ]
          },
          "metadata": {},
          "execution_count": 496
        }
      ]
    },
    {
      "cell_type": "markdown",
      "metadata": {
        "id": "I3Zat5kdWmAX"
      },
      "source": [
        "# model without dense layer\n"
      ]
    },
    {
      "cell_type": "code",
      "execution_count": 497,
      "metadata": {
        "id": "j-1BzkDgnCl0",
        "colab": {
          "base_uri": "https://localhost:8080/"
        },
        "outputId": "6e86c4cd-d109-460b-e50a-8d3b22ecd541"
      },
      "outputs": [
        {
          "output_type": "stream",
          "name": "stdout",
          "text": [
            "Model: \"model_46\"\n",
            "__________________________________________________________________________________________________\n",
            " Layer (type)                   Output Shape         Param #     Connected to                     \n",
            "==================================================================================================\n",
            " input_10 (InputLayer)          [(None, 1792, 2)]    0           []                               \n",
            "                                                                                                  \n",
            " conv1d_49 (Conv1D)             (None, 1790, 30)     210         ['input_10[0][0]']               \n",
            "                                                                                                  \n",
            " max_pooling1d_49 (MaxPooling1D  (None, 895, 30)     0           ['conv1d_49[0][0]']              \n",
            " )                                                                                                \n",
            "                                                                                                  \n",
            " flatten_20 (Flatten)           (None, 26850)        0           ['max_pooling1d_49[0][0]']       \n",
            "                                                                                                  \n",
            " dense_20 (Dense)               (None, 180)          4833180     ['flatten_20[0][0]']             \n",
            "                                                                                                  \n",
            " feature (Dense)                (None, 30)           5430        ['dense_20[0][0]']               \n",
            "                                                                                                  \n",
            " input_11 (InputLayer)          [(None, 5)]          0           []                               \n",
            "                                                                                                  \n",
            " concatenate_17 (Concatenate)   (None, 35)           0           ['feature[0][0]',                \n",
            "                                                                  'input_11[0][0]']               \n",
            "                                                                                                  \n",
            " classification (Dense)         (None, 2)            72          ['concatenate_17[0][0]']         \n",
            "                                                                                                  \n",
            "==================================================================================================\n",
            "Total params: 4,838,892\n",
            "Trainable params: 4,838,892\n",
            "Non-trainable params: 0\n",
            "__________________________________________________________________________________________________\n"
          ]
        },
        {
          "output_type": "stream",
          "name": "stderr",
          "text": [
            "/usr/local/lib/python3.8/dist-packages/keras/optimizers/optimizer_v2/adam.py:110: UserWarning: The `lr` argument is deprecated, use `learning_rate` instead.\n",
            "  super(Adam, self).__init__(name, **kwargs)\n"
          ]
        },
        {
          "output_type": "stream",
          "name": "stdout",
          "text": [
            "Epoch 1/5\n",
            "81/81 [==============================] - 9s 101ms/step - loss: 10.7965 - accuracy: 0.5184 - val_loss: 8.4841 - val_accuracy: 0.5022\n",
            "Epoch 2/5\n",
            "81/81 [==============================] - 7s 91ms/step - loss: 3.9167 - accuracy: 0.6485 - val_loss: 7.0492 - val_accuracy: 0.5526\n",
            "Epoch 3/5\n",
            "81/81 [==============================] - 8s 97ms/step - loss: 2.4291 - accuracy: 0.7344 - val_loss: 5.5941 - val_accuracy: 0.5329\n",
            "Epoch 4/5\n",
            "81/81 [==============================] - 8s 93ms/step - loss: 1.9143 - accuracy: 0.7654 - val_loss: 5.9007 - val_accuracy: 0.5702\n",
            "Epoch 5/5\n",
            "81/81 [==============================] - 7s 89ms/step - loss: 0.9398 - accuracy: 0.8436 - val_loss: 5.1828 - val_accuracy: 0.5702\n",
            "17/17 - 1s - loss: 5.2929 - accuracy: 0.5698 - 704ms/epoch - 41ms/step\n"
          ]
        }
      ],
      "source": [
        "inputs1 = tf.keras.Input(shape=x[0].shape)\n",
        "feature_input = tf.keras.Input((number_of_selected_features,))\n",
        "model1 = layers.Conv1D(filters = 30, kernel_size=(3))(inputs1)\n",
        "# model1 = layers.MaxPool1D(pool_size = (2))(model1)\n",
        "# model1 = layers.Conv1D(filters = 20, kernel_size=(3))(inputs1)\n",
        "# model1 = layers.Conv1D(filters = 18, kernel_size=(3))(inputs1)\n",
        "model1 = layers.MaxPool1D(pool_size = (2))(model1)\n",
        "model1 = layers.Flatten()(model1)\n",
        "model1 = layers.Dense(180, activation='relu')(model1)\n",
        "model1 = layers.Dense(30, activation='relu', name='feature')(model1)\n",
        "\n",
        "concat_layer= tf.keras.layers.Concatenate()([model1,feature_input])\n",
        "outputs = layers.Dense(2, name='classification', activation='softmax')(concat_layer)\n",
        "\n",
        "model = tf.keras.Model([inputs1, feature_input], outputs)\n",
        "\n",
        "base_learning_rate = 0.0001\n",
        "model.compile(optimizer=tf.keras.optimizers.Adam(lr=base_learning_rate),\n",
        "              loss={'classification': tf.keras.losses.CategoricalCrossentropy()},\n",
        "               metrics=['accuracy'])\n",
        "\n",
        "model.summary()\n",
        "tf.keras.utils.plot_model(model, show_shapes=True)\n",
        "\n",
        "history = model.fit([x_train, x_feature],\n",
        "                    y = y_train,\n",
        "                    epochs=5,\n",
        "                    validation_data=([x_val, x_feature_val], y_val))\n",
        "\n",
        "\n",
        "model_loss, model_accuracy = model.evaluate([x_test, x_feature_test], y_test, verbose=2)"
      ]
    },
    {
      "cell_type": "code",
      "execution_count": 498,
      "metadata": {
        "id": "kdIJtHmVP8EL",
        "colab": {
          "base_uri": "https://localhost:8080/",
          "height": 865
        },
        "outputId": "2a8c0d0e-2100-40e7-ec7b-9cc8592703cf"
      },
      "outputs": [
        {
          "output_type": "execute_result",
          "data": {
            "image/png": "[encoded data removed]",
            "text/plain": [
              "<IPython.core.display.Image object>"
            ]
          },
          "metadata": {},
          "execution_count": 498
        }
      ],
      "source": [
        "tf.keras.utils.plot_model(model, show_shapes=True)"
      ]
    },
    {
      "cell_type": "code",
      "execution_count": 499,
      "metadata": {
        "id": "MfWqsETgR912",
        "colab": {
          "base_uri": "https://localhost:8080/"
        },
        "outputId": "c4f93ecf-eed9-46e3-fa60-5d5aea5203a3"
      },
      "outputs": [
        {
          "output_type": "stream",
          "name": "stdout",
          "text": [
            "Epoch 1/5\n",
            "81/81 [==============================] - 8s 91ms/step - loss: 7.9120 - accuracy: 0.5296 - val_loss: 6.3423 - val_accuracy: 0.5439\n",
            "Epoch 2/5\n",
            "81/81 [==============================] - 8s 102ms/step - loss: 3.3481 - accuracy: 0.6527 - val_loss: 5.2018 - val_accuracy: 0.5680\n",
            "Epoch 3/5\n",
            "81/81 [==============================] - 7s 88ms/step - loss: 1.5707 - accuracy: 0.7716 - val_loss: 5.1329 - val_accuracy: 0.5504\n",
            "Epoch 4/5\n",
            "81/81 [==============================] - 8s 96ms/step - loss: 1.0666 - accuracy: 0.8316 - val_loss: 4.5907 - val_accuracy: 0.5789\n",
            "Epoch 5/5\n",
            "81/81 [==============================] - 8s 93ms/step - loss: 0.6437 - accuracy: 0.8734 - val_loss: 5.9067 - val_accuracy: 0.5636\n",
            "17/17 - 0s - loss: 6.7208 - accuracy: 0.5866 - 355ms/epoch - 21ms/step\n"
          ]
        }
      ],
      "source": [
        "inputs1 = tf.keras.Input(shape=x[0].shape)\n",
        "model1 = layers.Conv1D(filters = 30, kernel_size=(3))(inputs1)\n",
        "model1 = layers.MaxPool1D(pool_size = (2))(model1)\n",
        "model1 = layers.Flatten()(model1)\n",
        "model1 = layers.Dense(180, activation='relu')(model1)\n",
        "model1 = layers.Dense(30, activation='relu', name='feature')(model1)\n",
        "outputs = layers.Dense(2, name='classification', activation='softmax')(model1)\n",
        "\n",
        "model = tf.keras.Model(inputs1, outputs)\n",
        "\n",
        "base_learning_rate = 0.0001\n",
        "model.compile(optimizer=tf.keras.optimizers.Adam(lr=base_learning_rate),\n",
        "              loss={'classification': tf.keras.losses.CategoricalCrossentropy()},\n",
        "               metrics=['accuracy'])\n",
        "\n",
        "# model.summary()\n",
        "\n",
        "\n",
        "history = model.fit(x_train,\n",
        "                    y = y_train,\n",
        "                    epochs=5,\n",
        "                    validation_data=(x_val, y_val))\n",
        "\n",
        "model_loss, model_accuracy = model.evaluate(x_test, y_test, verbose=2)\n"
      ]
    },
    {
      "cell_type": "code",
      "execution_count": 500,
      "metadata": {
        "id": "ywAObf6A3Veh",
        "colab": {
          "base_uri": "https://localhost:8080/",
          "height": 754
        },
        "outputId": "81774547-d036-4d60-98f4-dc0c1698787e"
      },
      "outputs": [
        {
          "output_type": "execute_result",
          "data": {
            "image/png": "[encoded data removed]",
            "text/plain": [
              "<IPython.core.display.Image object>"
            ]
          },
          "metadata": {},
          "execution_count": 500
        }
      ],
      "source": [
        "tf.keras.utils.plot_model(model, show_shapes=True)"
      ]
    },
    {
      "cell_type": "markdown",
      "source": [
        "# how to handle a real world problem"
      ],
      "metadata": {
        "id": "Ekvuo3wWWTVI"
      }
    },
    {
      "cell_type": "markdown",
      "source": [
        "<div style=\"direction:rtl\", align='right'> \n",
        "\n",
        "\n",
        "پیشنهاد برای پیاده سازی سیستمی ایمپلنت جهت تشخیص تشنج در بدن انسان:\n",
        "\n",
        "برای انجام این کار پیشنهاد میشود که به جای دو کلاس برای داده هایمان از۳ کلاس استفاده کنیم. به این صورت که کلاس های اول و دوم همان داده های تشنج و نرمال است و کلاس\n",
        "سوم برای داده های بازه ی قبل از وقوع تشنج است.دلیل استفاده از این کلاس این است که بتوانیم وقوع تشنج را پیش از وقوع پیش بینی کنیم.\n",
        "\n",
        "ابتدا بایستی برروی داده های آموزشی پنجره بزنیم داده ها را به شکل زیر تقسیم میکنیم و‌ آنها را لیبل میزنیم:\n",
        "\n",
        "۲- بازه وقوع تشنج \n",
        "۱- ۱۰ ثانیه قبل از تشنج\n",
        "۳ - بازه های نرمال (قبل از ۱۰ ثانیه یا بعد از وقوع تشنج)\n",
        "\n",
        "با توجه به اینکه بازه های تشنج و قبل از تشنج مقدار کمی هستند نیاز به data augmentation داریم.برای این کار پیشنهاد میشود از شبکه GAN برای ایجاد دیتاهای آموزشی استفاده کرد\n",
        "\n",
        "حال باید بررسی کنیم که با توجه به مقدار خروجی چند دیتا تست تشنج در چه بازه ای اتفاق می افتد و آیا نزدیک به بازه تشنج هستیم یا خیر\n",
        "\n",
        "برای این کار میتوان لیبل تعدای پنجره ی  متوالی را با استفاده از جمع وزندار لیبل خروجی محاسبه کرد\n",
        "\n",
        "مثلا اگر ده پنجره متوالی را بخواهیم برای وجود تشنج یا نزدیک بودن به تشنج بررسی کنیم میتوانیم به کلاس تشنج وزن یک و به کلاس نزدیک به تشنج وزن نیم را بدهیم و کلاس نرمال هم وزن صفر را به خود اختصاص میدهد\n",
        "\n",
        "در صورتی که جمع وزندار کلاس ها بزرگتر از شش شد آلارم فعال بشود و دارو به بیمار تزریق بشود\n",
        "\n",
        "پیشنهادهایی برای پیاده سازی شبکه:\n",
        "\n",
        "با توجه به اینکه داده های ورودی سیگنال هستند باید در ابتدای شبکه از لایه های کانولوشن یک بعدی با تعداد فیلتر و سایز فیلتر مناسب استفاده کنیم.\n",
        "با توجه به پراکندگی سیگنال بهتر است که activation function لایه ها را برابر با Relu بجای sigmoid قرار بدهیم(دلیل آن این است که sigmoid بازه های تغییرات را ملایم تر میکند و این برای شبکه ما خوب نیست )\n",
        "با توجه به حجم و تعداد داده ها ممکن است که شبکه ساده تر نسبت به شبکه پیچیده تر خروجی بهتری را به ما بدهد دلیل آن کم بودن دیتاها و سختی پردازش آنها میباشد که این خود باعث overfit و عدم generalization میشود\n",
        "با توجه به تعداد زیاد پارامتر شبکه بهتر است که در شبکه خود علاوه بر سیگنال ها از feature ها نیز استفاده بکنیم\n",
        "\n",
        "</div>"
      ],
      "metadata": {
        "id": "O7s6rjYALqfT"
      }
    }
  ],
  "metadata": {
    "accelerator": "TPU",
    "colab": {
      "provenance": [],
      "collapsed_sections": [
        "_RlrD8h1DajK",
        "GyG5cRvTDkJS"
      ]
    },
    "gpuClass": "standard",
    "kernelspec": {
      "display_name": "Python 3",
      "name": "python3"
    },
    "language_info": {
      "name": "python"
    }
  },
  "nbformat": 4,
  "nbformat_minor": 0
}